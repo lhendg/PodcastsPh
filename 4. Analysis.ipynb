{
 "cells": [
  {
   "cell_type": "code",
   "execution_count": 115,
   "metadata": {},
   "outputs": [],
   "source": [
    "import numpy as np\n",
    "import pandas as pd\n",
    "import matplotlib.pyplot as plt\n",
    "import seaborn as sns\n",
    "import pandas_profiling as pp\n",
    "\n",
    "sns.set(rc={'figure.figsize':(20,15)}, style='whitegrid')\n",
    "\n",
    "from sklearn.cluster import KMeans"
   ]
  },
  {
   "cell_type": "code",
   "execution_count": 4,
   "metadata": {},
   "outputs": [],
   "source": [
    "dataframe = pd.read_excel('Spotify Charts.xlsx')"
   ]
  },
  {
   "cell_type": "markdown",
   "metadata": {},
   "source": [
    "### Pre-Processing"
   ]
  },
  {
   "cell_type": "code",
   "execution_count": 37,
   "metadata": {},
   "outputs": [],
   "source": [
    "data = dataframe.drop(['Unnamed: 0'], axis=1) #duplicating the dataframe"
   ]
  },
  {
   "cell_type": "code",
   "execution_count": 38,
   "metadata": {},
   "outputs": [
    {
     "data": {
      "text/plain": [
       "(95, 34)"
      ]
     },
     "execution_count": 38,
     "metadata": {},
     "output_type": "execute_result"
    }
   ],
   "source": [
    "data.shape"
   ]
  },
  {
   "cell_type": "code",
   "execution_count": 39,
   "metadata": {},
   "outputs": [
    {
     "data": {
      "text/plain": [
       "Index(['wrapperType', 'kind', 'collectionId', 'trackId', 'artistName',\n",
       "       'collectionName', 'trackName', 'collectionCensoredName',\n",
       "       'trackCensoredName', 'collectionViewUrl', 'feedUrl', 'trackViewUrl',\n",
       "       'artworkUrl30', 'artworkUrl60', 'artworkUrl100', 'collectionPrice',\n",
       "       'trackPrice', 'trackRentalPrice', 'collectionHdPrice', 'trackHdPrice',\n",
       "       'trackHdRentalPrice', 'releaseDate', 'collectionExplicitness',\n",
       "       'trackExplicitness', 'trackCount', 'country', 'currency',\n",
       "       'primaryGenreName', 'contentAdvisoryRating', 'artworkUrl600',\n",
       "       'genreIds', 'genres', 'artistId', 'artistViewUrl'],\n",
       "      dtype='object')"
      ]
     },
     "execution_count": 39,
     "metadata": {},
     "output_type": "execute_result"
    }
   ],
   "source": [
    "data.columns"
   ]
  },
  {
   "cell_type": "code",
   "execution_count": 40,
   "metadata": {},
   "outputs": [],
   "source": [
    "#dropping irrelevant fields for now\n",
    "data = data.drop(['wrapperType', 'kind', 'trackId', 'trackName', 'collectionCensoredName',\n",
    "       'trackCensoredName', 'collectionViewUrl', 'feedUrl', 'trackViewUrl',\n",
    "       'artworkUrl30', 'artworkUrl60', 'artworkUrl100', 'collectionPrice',\n",
    "       'trackPrice', 'trackRentalPrice', 'collectionHdPrice', 'trackHdPrice',\n",
    "       'trackHdRentalPrice', 'collectionExplicitness',\n",
    "       'trackExplicitness', 'currency', 'artworkUrl600',\n",
    "       'genreIds', 'artistId', 'artistViewUrl'], axis=1)"
   ]
  },
  {
   "cell_type": "code",
   "execution_count": 93,
   "metadata": {},
   "outputs": [
    {
     "data": {
      "text/plain": [
       "USA    95\n",
       "Name: country, dtype: int64"
      ]
     },
     "execution_count": 93,
     "metadata": {},
     "output_type": "execute_result"
    }
   ],
   "source": [
    "data['country'].value_counts()"
   ]
  },
  {
   "cell_type": "code",
   "execution_count": 96,
   "metadata": {},
   "outputs": [],
   "source": [
    "data = data.drop(['country'], axis = 1)"
   ]
  },
  {
   "cell_type": "code",
   "execution_count": 108,
   "metadata": {},
   "outputs": [
    {
     "data": {
      "text/html": [
       "<div>\n",
       "<style scoped>\n",
       "    .dataframe tbody tr th:only-of-type {\n",
       "        vertical-align: middle;\n",
       "    }\n",
       "\n",
       "    .dataframe tbody tr th {\n",
       "        vertical-align: top;\n",
       "    }\n",
       "\n",
       "    .dataframe thead th {\n",
       "        text-align: right;\n",
       "    }\n",
       "</style>\n",
       "<table border=\"1\" class=\"dataframe\">\n",
       "  <thead>\n",
       "    <tr style=\"text-align: right;\">\n",
       "      <th></th>\n",
       "      <th>collectionId</th>\n",
       "      <th>artistName</th>\n",
       "      <th>collectionName</th>\n",
       "      <th>releaseDate</th>\n",
       "      <th>trackCount</th>\n",
       "      <th>primaryGenreName</th>\n",
       "      <th>contentAdvisoryRating</th>\n",
       "      <th>genres</th>\n",
       "      <th>Year</th>\n",
       "    </tr>\n",
       "  </thead>\n",
       "  <tbody>\n",
       "    <tr>\n",
       "      <td>0</td>\n",
       "      <td>1459227062</td>\n",
       "      <td>Boiling Waters PH</td>\n",
       "      <td>Boiling Waters PH</td>\n",
       "      <td>2020-02-09 12:25:00+00:00</td>\n",
       "      <td>63</td>\n",
       "      <td>Comedy</td>\n",
       "      <td>Clean</td>\n",
       "      <td>['Comedy', 'Podcasts']</td>\n",
       "      <td>2020</td>\n",
       "    </tr>\n",
       "    <tr>\n",
       "      <td>1</td>\n",
       "      <td>1387922676</td>\n",
       "      <td>info@podcastgarden.com ()</td>\n",
       "      <td>The Morning Rush RX 93.1 - 2018</td>\n",
       "      <td>2018-02-05 07:00:00+00:00</td>\n",
       "      <td>26</td>\n",
       "      <td>Comedy</td>\n",
       "      <td>Clean</td>\n",
       "      <td>['Comedy', 'Podcasts']</td>\n",
       "      <td>2018</td>\n",
       "    </tr>\n",
       "    <tr>\n",
       "      <td>2</td>\n",
       "      <td>1439313975</td>\n",
       "      <td>Joyce Pring</td>\n",
       "      <td>Adulting With Joyce Pring</td>\n",
       "      <td>2020-02-05 06:12:00+00:00</td>\n",
       "      <td>35</td>\n",
       "      <td>Self-Improvement</td>\n",
       "      <td>Clean</td>\n",
       "      <td>['Self-Improvement', 'Podcasts', 'Education']</td>\n",
       "      <td>2020</td>\n",
       "    </tr>\n",
       "    <tr>\n",
       "      <td>3</td>\n",
       "      <td>1455713016</td>\n",
       "      <td>Mohan Gumatay</td>\n",
       "      <td>Good Times with Mo: The Podcast Season 7</td>\n",
       "      <td>2020-02-08 22:37:00+00:00</td>\n",
       "      <td>115</td>\n",
       "      <td>Society &amp; Culture</td>\n",
       "      <td>Explicit</td>\n",
       "      <td>['Society &amp; Culture', 'Podcasts']</td>\n",
       "      <td>2020</td>\n",
       "    </tr>\n",
       "    <tr>\n",
       "      <td>4</td>\n",
       "      <td>160904630</td>\n",
       "      <td>TED</td>\n",
       "      <td>TED Talks Daily</td>\n",
       "      <td>2020-02-11 15:57:00+00:00</td>\n",
       "      <td>277</td>\n",
       "      <td>Design</td>\n",
       "      <td>Clean</td>\n",
       "      <td>['Design', 'Podcasts', 'Arts', 'Education']</td>\n",
       "      <td>2020</td>\n",
       "    </tr>\n",
       "  </tbody>\n",
       "</table>\n",
       "</div>"
      ],
      "text/plain": [
       "   collectionId                 artistName  \\\n",
       "0    1459227062          Boiling Waters PH   \n",
       "1    1387922676  info@podcastgarden.com ()   \n",
       "2    1439313975                Joyce Pring   \n",
       "3    1455713016              Mohan Gumatay   \n",
       "4     160904630                        TED   \n",
       "\n",
       "                             collectionName               releaseDate  \\\n",
       "0                         Boiling Waters PH 2020-02-09 12:25:00+00:00   \n",
       "1           The Morning Rush RX 93.1 - 2018 2018-02-05 07:00:00+00:00   \n",
       "2                 Adulting With Joyce Pring 2020-02-05 06:12:00+00:00   \n",
       "3  Good Times with Mo: The Podcast Season 7 2020-02-08 22:37:00+00:00   \n",
       "4                           TED Talks Daily 2020-02-11 15:57:00+00:00   \n",
       "\n",
       "   trackCount   primaryGenreName contentAdvisoryRating  \\\n",
       "0          63             Comedy                 Clean   \n",
       "1          26             Comedy                 Clean   \n",
       "2          35   Self-Improvement                 Clean   \n",
       "3         115  Society & Culture              Explicit   \n",
       "4         277             Design                 Clean   \n",
       "\n",
       "                                          genres  Year  \n",
       "0                         ['Comedy', 'Podcasts']  2020  \n",
       "1                         ['Comedy', 'Podcasts']  2018  \n",
       "2  ['Self-Improvement', 'Podcasts', 'Education']  2020  \n",
       "3              ['Society & Culture', 'Podcasts']  2020  \n",
       "4    ['Design', 'Podcasts', 'Arts', 'Education']  2020  "
      ]
     },
     "execution_count": 108,
     "metadata": {},
     "output_type": "execute_result"
    }
   ],
   "source": [
    "data.head()"
   ]
  },
  {
   "cell_type": "code",
   "execution_count": 100,
   "metadata": {},
   "outputs": [],
   "source": [
    "data['releaseDate'] = pd.to_datetime(data['releaseDate'])"
   ]
  },
  {
   "cell_type": "code",
   "execution_count": 104,
   "metadata": {},
   "outputs": [],
   "source": [
    "data['Year'] = data['releaseDate'].dt.year"
   ]
  },
  {
   "cell_type": "code",
   "execution_count": 105,
   "metadata": {},
   "outputs": [
    {
     "data": {
      "text/plain": [
       "2020    90\n",
       "2019     3\n",
       "2018     2\n",
       "Name: Year, dtype: int64"
      ]
     },
     "execution_count": 105,
     "metadata": {},
     "output_type": "execute_result"
    }
   ],
   "source": [
    "data['Year'].value_counts()"
   ]
  },
  {
   "cell_type": "markdown",
   "metadata": {},
   "source": [
    "### Comedy is the most common genre"
   ]
  },
  {
   "cell_type": "code",
   "execution_count": 140,
   "metadata": {},
   "outputs": [
    {
     "data": {
      "text/plain": [
       "<matplotlib.axes._subplots.AxesSubplot at 0x19f77227788>"
      ]
     },
     "execution_count": 140,
     "metadata": {},
     "output_type": "execute_result"
    },
    {
     "data": {
      "image/png": "[encoded data removed]",
      "text/plain": [
       "<Figure size 1440x1080 with 1 Axes>"
      ]
     },
     "metadata": {},
     "output_type": "display_data"
    }
   ],
   "source": [
    "sns.countplot(y=data['primaryGenreName'], order = data['primaryGenreName'].value_counts().index)"
   ]
  },
  {
   "cell_type": "code",
   "execution_count": 110,
   "metadata": {},
   "outputs": [],
   "source": [
    "# Get features we need\n",
    "features = ['primaryGenreName', 'trackCount', 'Year']\n",
    "X = data[features]"
   ]
  },
  {
   "cell_type": "code",
   "execution_count": null,
   "metadata": {},
   "outputs": [],
   "source": []
  }
 ],
 "metadata": {
  "kernelspec": {
   "display_name": "Python 3",
   "language": "python",
   "name": "python3"
  },
  "language_info": {
   "codemirror_mode": {
    "name": "ipython",
    "version": 3
   },
   "file_extension": ".py",
   "mimetype": "text/x-python",
   "name": "python",
   "nbconvert_exporter": "python",
   "pygments_lexer": "ipython3",
   "version": "3.7.4"
  }
 },
 "nbformat": 4,
 "nbformat_minor": 2
}
