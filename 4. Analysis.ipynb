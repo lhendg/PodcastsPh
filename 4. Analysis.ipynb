{
 "cells": [
  {
   "cell_type": "code",
   "execution_count": 3,
   "metadata": {},
   "outputs": [],
   "source": [
    "import numpy as np\n",
    "import pandas as pd\n",
    "import matplotlib.pyplot as plt\n",
    "import seaborn as sns\n",
    "import pandas_profiling as pp\n",
    "\n",
    "sns.set(rc={'figure.figsize':(20,15)})"
   ]
  },
  {
   "cell_type": "code",
   "execution_count": 4,
   "metadata": {},
   "outputs": [],
   "source": [
    "dataframe = pd.read_excel('Spotify Charts.xlsx')"
   ]
  },
  {
   "cell_type": "markdown",
   "metadata": {},
   "source": [
    "### Pre-Processing"
   ]
  },
  {
   "cell_type": "code",
   "execution_count": 37,
   "metadata": {},
   "outputs": [],
   "source": [
    "data = dataframe.drop(['Unnamed: 0'], axis=1) #duplicating the dataframe"
   ]
  },
  {
   "cell_type": "code",
   "execution_count": 38,
   "metadata": {},
   "outputs": [
    {
     "data": {
      "text/plain": [
       "(95, 34)"
      ]
     },
     "execution_count": 38,
     "metadata": {},
     "output_type": "execute_result"
    }
   ],
   "source": [
    "data.shape"
   ]
  },
  {
   "cell_type": "code",
   "execution_count": 39,
   "metadata": {},
   "outputs": [
    {
     "data": {
      "text/plain": [
       "Index(['wrapperType', 'kind', 'collectionId', 'trackId', 'artistName',\n",
       "       'collectionName', 'trackName', 'collectionCensoredName',\n",
       "       'trackCensoredName', 'collectionViewUrl', 'feedUrl', 'trackViewUrl',\n",
       "       'artworkUrl30', 'artworkUrl60', 'artworkUrl100', 'collectionPrice',\n",
       "       'trackPrice', 'trackRentalPrice', 'collectionHdPrice', 'trackHdPrice',\n",
       "       'trackHdRentalPrice', 'releaseDate', 'collectionExplicitness',\n",
       "       'trackExplicitness', 'trackCount', 'country', 'currency',\n",
       "       'primaryGenreName', 'contentAdvisoryRating', 'artworkUrl600',\n",
       "       'genreIds', 'genres', 'artistId', 'artistViewUrl'],\n",
       "      dtype='object')"
      ]
     },
     "execution_count": 39,
     "metadata": {},
     "output_type": "execute_result"
    }
   ],
   "source": [
    "data.columns"
   ]
  },
  {
   "cell_type": "code",
   "execution_count": 40,
   "metadata": {},
   "outputs": [],
   "source": [
    "#dropping irrelevant fields for now\n",
    "data = data.drop(['wrapperType', 'kind', 'trackId', 'trackName', 'collectionCensoredName',\n",
    "       'trackCensoredName', 'collectionViewUrl', 'feedUrl', 'trackViewUrl',\n",
    "       'artworkUrl30', 'artworkUrl60', 'artworkUrl100', 'collectionPrice',\n",
    "       'trackPrice', 'trackRentalPrice', 'collectionHdPrice', 'trackHdPrice',\n",
    "       'trackHdRentalPrice', 'collectionExplicitness',\n",
    "       'trackExplicitness', 'currency', 'artworkUrl600',\n",
    "       'genreIds', 'artistId', 'artistViewUrl'], axis=1)"
   ]
  },
  {
   "cell_type": "code",
   "execution_count": 42,
   "metadata": {},
   "outputs": [
    {
     "data": {
      "text/html": [
       "<div>\n",
       "<style scoped>\n",
       "    .dataframe tbody tr th:only-of-type {\n",
       "        vertical-align: middle;\n",
       "    }\n",
       "\n",
       "    .dataframe tbody tr th {\n",
       "        vertical-align: top;\n",
       "    }\n",
       "\n",
       "    .dataframe thead th {\n",
       "        text-align: right;\n",
       "    }\n",
       "</style>\n",
       "<table border=\"1\" class=\"dataframe\">\n",
       "  <thead>\n",
       "    <tr style=\"text-align: right;\">\n",
       "      <th></th>\n",
       "      <th>collectionId</th>\n",
       "      <th>artistName</th>\n",
       "      <th>collectionName</th>\n",
       "      <th>releaseDate</th>\n",
       "      <th>trackCount</th>\n",
       "      <th>country</th>\n",
       "      <th>primaryGenreName</th>\n",
       "      <th>contentAdvisoryRating</th>\n",
       "      <th>genres</th>\n",
       "    </tr>\n",
       "  </thead>\n",
       "  <tbody>\n",
       "    <tr>\n",
       "      <td>0</td>\n",
       "      <td>1459227062</td>\n",
       "      <td>Boiling Waters PH</td>\n",
       "      <td>Boiling Waters PH</td>\n",
       "      <td>2020-02-09T12:25:00Z</td>\n",
       "      <td>63</td>\n",
       "      <td>USA</td>\n",
       "      <td>Comedy</td>\n",
       "      <td>Clean</td>\n",
       "      <td>['Comedy', 'Podcasts']</td>\n",
       "    </tr>\n",
       "    <tr>\n",
       "      <td>1</td>\n",
       "      <td>1387922676</td>\n",
       "      <td>info@podcastgarden.com ()</td>\n",
       "      <td>The Morning Rush RX 93.1 - 2018</td>\n",
       "      <td>2018-02-05T07:00:00Z</td>\n",
       "      <td>26</td>\n",
       "      <td>USA</td>\n",
       "      <td>Comedy</td>\n",
       "      <td>Clean</td>\n",
       "      <td>['Comedy', 'Podcasts']</td>\n",
       "    </tr>\n",
       "    <tr>\n",
       "      <td>2</td>\n",
       "      <td>1439313975</td>\n",
       "      <td>Joyce Pring</td>\n",
       "      <td>Adulting With Joyce Pring</td>\n",
       "      <td>2020-02-05T06:12:00Z</td>\n",
       "      <td>35</td>\n",
       "      <td>USA</td>\n",
       "      <td>Self-Improvement</td>\n",
       "      <td>Clean</td>\n",
       "      <td>['Self-Improvement', 'Podcasts', 'Education']</td>\n",
       "    </tr>\n",
       "    <tr>\n",
       "      <td>3</td>\n",
       "      <td>1455713016</td>\n",
       "      <td>Mohan Gumatay</td>\n",
       "      <td>Good Times with Mo: The Podcast Season 7</td>\n",
       "      <td>2020-02-08T22:37:00Z</td>\n",
       "      <td>115</td>\n",
       "      <td>USA</td>\n",
       "      <td>Society &amp; Culture</td>\n",
       "      <td>Explicit</td>\n",
       "      <td>['Society &amp; Culture', 'Podcasts']</td>\n",
       "    </tr>\n",
       "    <tr>\n",
       "      <td>4</td>\n",
       "      <td>160904630</td>\n",
       "      <td>TED</td>\n",
       "      <td>TED Talks Daily</td>\n",
       "      <td>2020-02-11T15:57:00Z</td>\n",
       "      <td>277</td>\n",
       "      <td>USA</td>\n",
       "      <td>Design</td>\n",
       "      <td>Clean</td>\n",
       "      <td>['Design', 'Podcasts', 'Arts', 'Education']</td>\n",
       "    </tr>\n",
       "  </tbody>\n",
       "</table>\n",
       "</div>"
      ],
      "text/plain": [
       "   collectionId                 artistName  \\\n",
       "0    1459227062          Boiling Waters PH   \n",
       "1    1387922676  info@podcastgarden.com ()   \n",
       "2    1439313975                Joyce Pring   \n",
       "3    1455713016              Mohan Gumatay   \n",
       "4     160904630                        TED   \n",
       "\n",
       "                             collectionName           releaseDate  trackCount  \\\n",
       "0                         Boiling Waters PH  2020-02-09T12:25:00Z          63   \n",
       "1           The Morning Rush RX 93.1 - 2018  2018-02-05T07:00:00Z          26   \n",
       "2                 Adulting With Joyce Pring  2020-02-05T06:12:00Z          35   \n",
       "3  Good Times with Mo: The Podcast Season 7  2020-02-08T22:37:00Z         115   \n",
       "4                           TED Talks Daily  2020-02-11T15:57:00Z         277   \n",
       "\n",
       "  country   primaryGenreName contentAdvisoryRating  \\\n",
       "0     USA             Comedy                 Clean   \n",
       "1     USA             Comedy                 Clean   \n",
       "2     USA   Self-Improvement                 Clean   \n",
       "3     USA  Society & Culture              Explicit   \n",
       "4     USA             Design                 Clean   \n",
       "\n",
       "                                          genres  \n",
       "0                         ['Comedy', 'Podcasts']  \n",
       "1                         ['Comedy', 'Podcasts']  \n",
       "2  ['Self-Improvement', 'Podcasts', 'Education']  \n",
       "3              ['Society & Culture', 'Podcasts']  \n",
       "4    ['Design', 'Podcasts', 'Arts', 'Education']  "
      ]
     },
     "execution_count": 42,
     "metadata": {},
     "output_type": "execute_result"
    }
   ],
   "source": [
    "data.head()"
   ]
  },
  {
   "cell_type": "code",
   "execution_count": 93,
   "metadata": {},
   "outputs": [
    {
     "data": {
      "text/plain": [
       "USA    95\n",
       "Name: country, dtype: int64"
      ]
     },
     "execution_count": 93,
     "metadata": {},
     "output_type": "execute_result"
    }
   ],
   "source": [
    "data['country'].value_counts()"
   ]
  },
  {
   "cell_type": "code",
   "execution_count": 96,
   "metadata": {},
   "outputs": [],
   "source": [
    "data = data.drop(['country'], axis = 1)"
   ]
  },
  {
   "cell_type": "code",
   "execution_count": 100,
   "metadata": {},
   "outputs": [],
   "source": [
    "data['releaseDate'] = pd.to_datetime(data['releaseDate'])"
   ]
  },
  {
   "cell_type": "code",
   "execution_count": 104,
   "metadata": {},
   "outputs": [],
   "source": [
    "data['Year'] = data['releaseDate'].dt.year"
   ]
  },
  {
   "cell_type": "code",
   "execution_count": 105,
   "metadata": {},
   "outputs": [
    {
     "data": {
      "text/plain": [
       "2020    90\n",
       "2019     3\n",
       "2018     2\n",
       "Name: Year, dtype: int64"
      ]
     },
     "execution_count": 105,
     "metadata": {},
     "output_type": "execute_result"
    }
   ],
   "source": [
    "data['Year'].value_counts()"
   ]
  },
  {
   "cell_type": "code",
   "execution_count": null,
   "metadata": {},
   "outputs": [],
   "source": [
    "data['primaryGenreName'].value"
   ]
  }
 ],
 "metadata": {
  "kernelspec": {
   "display_name": "Python 3",
   "language": "python",
   "name": "python3"
  },
  "language_info": {
   "codemirror_mode": {
    "name": "ipython",
    "version": 3
   },
   "file_extension": ".py",
   "mimetype": "text/x-python",
   "name": "python",
   "nbconvert_exporter": "python",
   "pygments_lexer": "ipython3",
   "version": "3.7.4"
  }
 },
 "nbformat": 4,
 "nbformat_minor": 2
}
