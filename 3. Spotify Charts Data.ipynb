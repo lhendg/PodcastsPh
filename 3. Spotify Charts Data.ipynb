{
 "cells": [
  {
   "cell_type": "code",
   "execution_count": 12,
   "metadata": {},
   "outputs": [],
   "source": [
    "import pandas as pd\n",
    "import requests"
   ]
  },
  {
   "cell_type": "code",
   "execution_count": 13,
   "metadata": {},
   "outputs": [],
   "source": [
    "data = pd.read_excel('data/Spotify_Top Charts.xlsx')"
   ]
  },
  {
   "cell_type": "code",
   "execution_count": 14,
   "metadata": {},
   "outputs": [
    {
     "data": {
      "text/plain": [
       "(125, 3)"
      ]
     },
     "execution_count": 14,
     "metadata": {},
     "output_type": "execute_result"
    }
   ],
   "source": [
    "data.shape"
   ]
  },
  {
   "cell_type": "code",
   "execution_count": 15,
   "metadata": {},
   "outputs": [
    {
     "data": {
      "text/plain": [
       "(95, 3)"
      ]
     },
     "execution_count": 15,
     "metadata": {},
     "output_type": "execute_result"
    }
   ],
   "source": [
    "data = data.dropna()\n",
    "data.shape"
   ]
  },
  {
   "cell_type": "code",
   "execution_count": 16,
   "metadata": {},
   "outputs": [
    {
     "data": {
      "text/plain": [
       "Title     object\n",
       "ID       float64\n",
       "Rank       int64\n",
       "dtype: object"
      ]
     },
     "execution_count": 16,
     "metadata": {},
     "output_type": "execute_result"
    }
   ],
   "source": [
    "data.dtypes"
   ]
  },
  {
   "cell_type": "code",
   "execution_count": 17,
   "metadata": {},
   "outputs": [],
   "source": [
    "ID = data['ID'] "
   ]
  },
  {
   "cell_type": "code",
   "execution_count": 18,
   "metadata": {},
   "outputs": [],
   "source": [
    "url = 'https://itunes.apple.com/lookup?id='"
   ]
  },
  {
   "cell_type": "code",
   "execution_count": 19,
   "metadata": {},
   "outputs": [],
   "source": [
    "links = []\n",
    "for i in ID: links.append(url+str(i))"
   ]
  },
  {
   "cell_type": "code",
   "execution_count": 20,
   "metadata": {},
   "outputs": [
    {
     "data": {
      "text/plain": [
       "['https://itunes.apple.com/lookup?id=1459227062.0',\n",
       " 'https://itunes.apple.com/lookup?id=1387922676.0',\n",
       " 'https://itunes.apple.com/lookup?id=1439313975.0',\n",
       " 'https://itunes.apple.com/lookup?id=1455713016.0',\n",
       " 'https://itunes.apple.com/lookup?id=160904630.0',\n",
       " 'https://itunes.apple.com/lookup?id=1447016339.0',\n",
       " 'https://itunes.apple.com/lookup?id=1472161310.0',\n",
       " 'https://itunes.apple.com/lookup?id=1403299829.0',\n",
       " 'https://itunes.apple.com/lookup?id=1495282149.0',\n",
       " 'https://itunes.apple.com/lookup?id=137334807.0',\n",
       " 'https://itunes.apple.com/lookup?id=1456423942.0',\n",
       " 'https://itunes.apple.com/lookup?id=1033048640.0',\n",
       " 'https://itunes.apple.com/lookup?id=1450994021.0',\n",
       " 'https://itunes.apple.com/lookup?id=1435073483.0',\n",
       " 'https://itunes.apple.com/lookup?id=1438162222.0',\n",
       " 'https://itunes.apple.com/lookup?id=1494828137.0',\n",
       " 'https://itunes.apple.com/lookup?id=1134840455.0',\n",
       " 'https://itunes.apple.com/lookup?id=1322200189.0',\n",
       " 'https://itunes.apple.com/lookup?id=1438054347.0',\n",
       " 'https://itunes.apple.com/lookup?id=1236778275.0',\n",
       " 'https://itunes.apple.com/lookup?id=1464406768.0',\n",
       " 'https://itunes.apple.com/lookup?id=431160869.0',\n",
       " 'https://itunes.apple.com/lookup?id=1468409996.0',\n",
       " 'https://itunes.apple.com/lookup?id=1487513861.0',\n",
       " 'https://itunes.apple.com/lookup?id=1205030005.0',\n",
       " 'https://itunes.apple.com/lookup?id=278981407.0',\n",
       " 'https://itunes.apple.com/lookup?id=803978236.0',\n",
       " 'https://itunes.apple.com/lookup?id=1253570474.0',\n",
       " 'https://itunes.apple.com/lookup?id=1399485424.0',\n",
       " 'https://itunes.apple.com/lookup?id=1474359464.0',\n",
       " 'https://itunes.apple.com/lookup?id=1442945036.0',\n",
       " 'https://itunes.apple.com/lookup?id=444083093.0',\n",
       " 'https://itunes.apple.com/lookup?id=1434186181.0',\n",
       " 'https://itunes.apple.com/lookup?id=1346207297.0',\n",
       " 'https://itunes.apple.com/lookup?id=1455314669.0',\n",
       " 'https://itunes.apple.com/lookup?id=1109271715.0',\n",
       " 'https://itunes.apple.com/lookup?id=135067274.0',\n",
       " 'https://itunes.apple.com/lookup?id=1346062517.0',\n",
       " 'https://itunes.apple.com/lookup?id=1249754020.0',\n",
       " 'https://itunes.apple.com/lookup?id=1439897716.0',\n",
       " 'https://itunes.apple.com/lookup?id=1074507850.0',\n",
       " 'https://itunes.apple.com/lookup?id=1264843400.0',\n",
       " 'https://itunes.apple.com/lookup?id=1485345039.0',\n",
       " 'https://itunes.apple.com/lookup?id=1106886477.0',\n",
       " 'https://itunes.apple.com/lookup?id=1327769095.0',\n",
       " 'https://itunes.apple.com/lookup?id=1458858435.0',\n",
       " 'https://itunes.apple.com/lookup?id=1461841525.0',\n",
       " 'https://itunes.apple.com/lookup?id=1416206538.0',\n",
       " 'https://itunes.apple.com/lookup?id=1472253940.0',\n",
       " 'https://itunes.apple.com/lookup?id=1270483452.0',\n",
       " 'https://itunes.apple.com/lookup?id=631094342.0',\n",
       " 'https://itunes.apple.com/lookup?id=596047499.0',\n",
       " 'https://itunes.apple.com/lookup?id=1200361736.0',\n",
       " 'https://itunes.apple.com/lookup?id=1065559535.0',\n",
       " 'https://itunes.apple.com/lookup?id=659155419.0',\n",
       " 'https://itunes.apple.com/lookup?id=1365312021.0',\n",
       " 'https://itunes.apple.com/lookup?id=1435732792.0',\n",
       " 'https://itunes.apple.com/lookup?id=1493381315.0',\n",
       " 'https://itunes.apple.com/lookup?id=1489587988.0',\n",
       " 'https://itunes.apple.com/lookup?id=1166583478.0',\n",
       " 'https://itunes.apple.com/lookup?id=1473626965.0',\n",
       " 'https://itunes.apple.com/lookup?id=1418015987.0',\n",
       " 'https://itunes.apple.com/lookup?id=1334878780.0',\n",
       " 'https://itunes.apple.com/lookup?id=1463174591.0',\n",
       " 'https://itunes.apple.com/lookup?id=717407884.0',\n",
       " 'https://itunes.apple.com/lookup?id=1051557000.0',\n",
       " 'https://itunes.apple.com/lookup?id=1402387788.0',\n",
       " 'https://itunes.apple.com/lookup?id=1092280776.0',\n",
       " 'https://itunes.apple.com/lookup?id=1478746415.0',\n",
       " 'https://itunes.apple.com/lookup?id=1477725858.0',\n",
       " 'https://itunes.apple.com/lookup?id=1470898919.0',\n",
       " 'https://itunes.apple.com/lookup?id=1496689557.0',\n",
       " 'https://itunes.apple.com/lookup?id=1351389458.0',\n",
       " 'https://itunes.apple.com/lookup?id=1358793371.0',\n",
       " 'https://itunes.apple.com/lookup?id=928159684.0',\n",
       " 'https://itunes.apple.com/lookup?id=1430315931.0',\n",
       " 'https://itunes.apple.com/lookup?id=1043699613.0',\n",
       " 'https://itunes.apple.com/lookup?id=1437039510.0',\n",
       " 'https://itunes.apple.com/lookup?id=1208024744.0',\n",
       " 'https://itunes.apple.com/lookup?id=1459220201.0',\n",
       " 'https://itunes.apple.com/lookup?id=834515877.0',\n",
       " 'https://itunes.apple.com/lookup?id=1483525141.0',\n",
       " 'https://itunes.apple.com/lookup?id=1335814741.0',\n",
       " 'https://itunes.apple.com/lookup?id=1069757084.0',\n",
       " 'https://itunes.apple.com/lookup?id=1487574016.0',\n",
       " 'https://itunes.apple.com/lookup?id=398964210.0',\n",
       " 'https://itunes.apple.com/lookup?id=1475512777.0',\n",
       " 'https://itunes.apple.com/lookup?id=1317416071.0',\n",
       " 'https://itunes.apple.com/lookup?id=1438472688.0',\n",
       " 'https://itunes.apple.com/lookup?id=1483638752.0',\n",
       " 'https://itunes.apple.com/lookup?id=1477350613.0',\n",
       " 'https://itunes.apple.com/lookup?id=1393035987.0',\n",
       " 'https://itunes.apple.com/lookup?id=151230264.0',\n",
       " 'https://itunes.apple.com/lookup?id=1195370480.0',\n",
       " 'https://itunes.apple.com/lookup?id=394775318.0']"
      ]
     },
     "execution_count": 20,
     "metadata": {},
     "output_type": "execute_result"
    }
   ],
   "source": [
    "links"
   ]
  },
  {
   "cell_type": "code",
   "execution_count": 21,
   "metadata": {},
   "outputs": [
    {
     "ename": "KeyError",
     "evalue": "'results'",
     "output_type": "error",
     "traceback": [
      "\u001b[1;31m---------------------------------------------------------------------------\u001b[0m",
      "\u001b[1;31mKeyError\u001b[0m                                  Traceback (most recent call last)",
      "\u001b[1;32m<ipython-input-21-20046bca4beb>\u001b[0m in \u001b[0;36m<module>\u001b[1;34m\u001b[0m\n\u001b[0;32m      1\u001b[0m \u001b[0mresponse\u001b[0m \u001b[1;33m=\u001b[0m \u001b[0mrequests\u001b[0m\u001b[1;33m.\u001b[0m\u001b[0mget\u001b[0m\u001b[1;33m(\u001b[0m\u001b[0mlinks\u001b[0m\u001b[1;33m[\u001b[0m\u001b[1;36m0\u001b[0m\u001b[1;33m]\u001b[0m\u001b[1;33m)\u001b[0m\u001b[1;33m\u001b[0m\u001b[1;33m\u001b[0m\u001b[0m\n\u001b[0;32m      2\u001b[0m \u001b[0mdata\u001b[0m \u001b[1;33m=\u001b[0m \u001b[0mresponse\u001b[0m\u001b[1;33m.\u001b[0m\u001b[0mjson\u001b[0m\u001b[1;33m(\u001b[0m\u001b[1;33m)\u001b[0m\u001b[1;33m\u001b[0m\u001b[1;33m\u001b[0m\u001b[0m\n\u001b[1;32m----> 3\u001b[1;33m \u001b[0mresults\u001b[0m \u001b[1;33m=\u001b[0m \u001b[0mdata\u001b[0m\u001b[1;33m[\u001b[0m\u001b[1;34m'results'\u001b[0m\u001b[1;33m]\u001b[0m\u001b[1;33m\u001b[0m\u001b[1;33m\u001b[0m\u001b[0m\n\u001b[0m\u001b[0;32m      4\u001b[0m \u001b[0mx\u001b[0m \u001b[1;33m=\u001b[0m \u001b[0mresults\u001b[0m\u001b[1;33m[\u001b[0m\u001b[1;36m0\u001b[0m\u001b[1;33m]\u001b[0m\u001b[1;33m\u001b[0m\u001b[1;33m\u001b[0m\u001b[0m\n",
      "\u001b[1;31mKeyError\u001b[0m: 'results'"
     ]
    }
   ],
   "source": [
    "response = requests.get(links[0]) \n",
    "data = response.json()\n",
    "results = data['results']\n",
    "x = results[0]"
   ]
  },
  {
   "cell_type": "code",
   "execution_count": null,
   "metadata": {},
   "outputs": [],
   "source": [
    "df = pd.DataFrame(x)\n",
    "df = df.drop(0)\n",
    "df = df.drop(1)"
   ]
  },
  {
   "cell_type": "code",
   "execution_count": null,
   "metadata": {},
   "outputs": [],
   "source": [
    "for link in links:\n",
    "    response = requests.get(link) \n",
    "    data = response.json()\n",
    "    results = data['results']\n",
    "    x = results[0]\n",
    "    df = df.append(x, ignore_index=True)"
   ]
  },
  {
   "cell_type": "code",
   "execution_count": null,
   "metadata": {},
   "outputs": [],
   "source": [
    "df"
   ]
  },
  {
   "cell_type": "code",
   "execution_count": null,
   "metadata": {},
   "outputs": [],
   "source": []
  },
  {
   "cell_type": "code",
   "execution_count": null,
   "metadata": {},
   "outputs": [],
   "source": []
  }
 ],
 "metadata": {
  "kernelspec": {
   "display_name": "Python 3",
   "language": "python",
   "name": "python3"
  },
  "language_info": {
   "codemirror_mode": {
    "name": "ipython",
    "version": 3
   },
   "file_extension": ".py",
   "mimetype": "text/x-python",
   "name": "python",
   "nbconvert_exporter": "python",
   "pygments_lexer": "ipython3",
   "version": "3.7.4"
  }
 },
 "nbformat": 4,
 "nbformat_minor": 2
}
