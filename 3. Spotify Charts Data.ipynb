{
 "cells": [
  {
   "cell_type": "code",
   "execution_count": 18,
   "metadata": {},
   "outputs": [],
   "source": [
    "import pandas as pd\n",
    "import requests"
   ]
  },
  {
   "cell_type": "code",
   "execution_count": 19,
   "metadata": {},
   "outputs": [],
   "source": [
    "data = pd.read_excel('data/Spotify_Top Charts.xlsx')"
   ]
  },
  {
   "cell_type": "code",
   "execution_count": 20,
   "metadata": {},
   "outputs": [
    {
     "data": {
      "text/plain": [
       "(125, 3)"
      ]
     },
     "execution_count": 20,
     "metadata": {},
     "output_type": "execute_result"
    }
   ],
   "source": [
    "data.shape"
   ]
  },
  {
   "cell_type": "code",
   "execution_count": 21,
   "metadata": {},
   "outputs": [
    {
     "data": {
      "text/plain": [
       "(95, 3)"
      ]
     },
     "execution_count": 21,
     "metadata": {},
     "output_type": "execute_result"
    }
   ],
   "source": [
    "data = data.dropna()\n",
    "data.shape"
   ]
  },
  {
   "cell_type": "code",
   "execution_count": 22,
   "metadata": {},
   "outputs": [
    {
     "data": {
      "text/plain": [
       "Title     object\n",
       "ID       float64\n",
       "Rank       int64\n",
       "dtype: object"
      ]
     },
     "execution_count": 22,
     "metadata": {},
     "output_type": "execute_result"
    }
   ],
   "source": [
    "data.dtypes"
   ]
  },
  {
   "cell_type": "code",
   "execution_count": 23,
   "metadata": {},
   "outputs": [],
   "source": [
    "ID = data['ID'].astype(int, errors='ignore')"
   ]
  },
  {
   "cell_type": "code",
   "execution_count": 24,
   "metadata": {},
   "outputs": [],
   "source": [
    "url = 'https://itunes.apple.com/lookup?id='"
   ]
  },
  {
   "cell_type": "code",
   "execution_count": 25,
   "metadata": {},
   "outputs": [],
   "source": [
    "links = []\n",
    "for i in ID: links.append(url+str(i))"
   ]
  },
  {
   "cell_type": "code",
   "execution_count": 27,
   "metadata": {},
   "outputs": [],
   "source": [
    "response = requests.get(links[0]) \n",
    "data = response.json()\n",
    "results = data['results']\n",
    "x = results[0]"
   ]
  },
  {
   "cell_type": "code",
   "execution_count": 28,
   "metadata": {},
   "outputs": [],
   "source": [
    "df = pd.DataFrame(x)\n",
    "df = df.drop(0)\n",
    "df = df.drop(1)"
   ]
  },
  {
   "cell_type": "code",
   "execution_count": 29,
   "metadata": {},
   "outputs": [],
   "source": [
    "for link in links:\n",
    "    response = requests.get(link) \n",
    "    data = response.json()\n",
    "    results = data['results']\n",
    "    x = results[0]\n",
    "    df = df.append(x, ignore_index=True)"
   ]
  },
  {
   "cell_type": "code",
   "execution_count": 35,
   "metadata": {},
   "outputs": [
    {
     "data": {
      "text/plain": [
       "Index(['wrapperType', 'kind', 'collectionId', 'trackId', 'artistName',\n",
       "       'collectionName', 'trackName', 'collectionCensoredName',\n",
       "       'trackCensoredName', 'collectionViewUrl', 'feedUrl', 'trackViewUrl',\n",
       "       'artworkUrl30', 'artworkUrl60', 'artworkUrl100', 'collectionPrice',\n",
       "       'trackPrice', 'trackRentalPrice', 'collectionHdPrice', 'trackHdPrice',\n",
       "       'trackHdRentalPrice', 'releaseDate', 'collectionExplicitness',\n",
       "       'trackExplicitness', 'trackCount', 'country', 'currency',\n",
       "       'primaryGenreName', 'contentAdvisoryRating', 'artworkUrl600',\n",
       "       'genreIds', 'genres', 'artistId', 'artistViewUrl'],\n",
       "      dtype='object')"
      ]
     },
     "execution_count": 35,
     "metadata": {},
     "output_type": "execute_result"
    }
   ],
   "source": [
    "df.columns"
   ]
  },
  {
   "cell_type": "code",
   "execution_count": 36,
   "metadata": {},
   "outputs": [],
   "source": [
    "data['Description'] = []"
   ]
  },
  {
   "cell_type": "code",
   "execution_count": 37,
   "metadata": {},
   "outputs": [
    {
     "data": {
      "text/plain": [
       "{'resultCount': 1,\n",
       " 'results': [{'wrapperType': 'track',\n",
       "   'kind': 'podcast',\n",
       "   'artistId': 850139119,\n",
       "   'collectionId': 394775318,\n",
       "   'trackId': 394775318,\n",
       "   'artistName': 'Roman Mars',\n",
       "   'collectionName': '99% Invisible',\n",
       "   'trackName': '99% Invisible',\n",
       "   'collectionCensoredName': '99% Invisible',\n",
       "   'trackCensoredName': '99% Invisible',\n",
       "   'artistViewUrl': 'https://podcasts.apple.com/us/artist/radiotopia/850139119?uo=4',\n",
       "   'collectionViewUrl': 'https://podcasts.apple.com/us/podcast/99-invisible/id394775318?uo=4',\n",
       "   'feedUrl': 'http://feeds.99percentinvisible.org/99percentinvisible',\n",
       "   'trackViewUrl': 'https://podcasts.apple.com/us/podcast/99-invisible/id394775318?uo=4',\n",
       "   'artworkUrl30': 'https://is4-ssl.mzstatic.com/image/thumb/Podcasts113/v4/50/ee/2b/50ee2bb6-bb40-44ca-943f-396d9897da51/mza_3777258724161926295.png/30x30bb.jpg',\n",
       "   'artworkUrl60': 'https://is4-ssl.mzstatic.com/image/thumb/Podcasts113/v4/50/ee/2b/50ee2bb6-bb40-44ca-943f-396d9897da51/mza_3777258724161926295.png/60x60bb.jpg',\n",
       "   'artworkUrl100': 'https://is4-ssl.mzstatic.com/image/thumb/Podcasts113/v4/50/ee/2b/50ee2bb6-bb40-44ca-943f-396d9897da51/mza_3777258724161926295.png/100x100bb.jpg',\n",
       "   'collectionPrice': 0.0,\n",
       "   'trackPrice': 0.0,\n",
       "   'trackRentalPrice': 0,\n",
       "   'collectionHdPrice': 0,\n",
       "   'trackHdPrice': 0,\n",
       "   'trackHdRentalPrice': 0,\n",
       "   'releaseDate': '2020-02-12T02:15:00Z',\n",
       "   'collectionExplicitness': 'cleaned',\n",
       "   'trackExplicitness': 'cleaned',\n",
       "   'trackCount': 300,\n",
       "   'country': 'USA',\n",
       "   'currency': 'USD',\n",
       "   'primaryGenreName': 'Design',\n",
       "   'contentAdvisoryRating': 'Clean',\n",
       "   'artworkUrl600': 'https://is4-ssl.mzstatic.com/image/thumb/Podcasts113/v4/50/ee/2b/50ee2bb6-bb40-44ca-943f-396d9897da51/mza_3777258724161926295.png/600x600bb.jpg',\n",
       "   'genreIds': ['1402', '26', '1301'],\n",
       "   'genres': ['Design', 'Podcasts', 'Arts']}],\n",
       " 'Description': []}"
      ]
     },
     "execution_count": 37,
     "metadata": {},
     "output_type": "execute_result"
    }
   ],
   "source": [
    "data"
   ]
  },
  {
   "cell_type": "code",
   "execution_count": 33,
   "metadata": {},
   "outputs": [
    {
     "ename": "IndentationError",
     "evalue": "unexpected indent (<ipython-input-33-4abb8c1267c9>, line 3)",
     "output_type": "error",
     "traceback": [
      "\u001b[1;36m  File \u001b[1;32m\"<ipython-input-33-4abb8c1267c9>\"\u001b[1;36m, line \u001b[1;32m3\u001b[0m\n\u001b[1;33m    if description is not None:\u001b[0m\n\u001b[1;37m    ^\u001b[0m\n\u001b[1;31mIndentationError\u001b[0m\u001b[1;31m:\u001b[0m unexpected indent\n"
     ]
    }
   ],
   "source": [
    "\n",
    "    bs.find('div', 'product-review')\n",
    "      if description is not None:\n",
    "                    descr_parag = description.findAll('p')\n",
    "                    for parag in descr_parag:\n",
    "                        podcast_description = parag.getText()"
   ]
  },
  {
   "cell_type": "code",
   "execution_count": null,
   "metadata": {},
   "outputs": [],
   "source": [
    "description = bs.find('div', 'product-review')\n",
    "                if description is not None:\n",
    "                    descr_parag = description.findAll('p')\n",
    "                    for parag in descr_parag:\n",
    "                        podcast_description = parag.getText()"
   ]
  }
 ],
 "metadata": {
  "kernelspec": {
   "display_name": "Python 3",
   "language": "python",
   "name": "python3"
  },
  "language_info": {
   "codemirror_mode": {
    "name": "ipython",
    "version": 3
   },
   "file_extension": ".py",
   "mimetype": "text/x-python",
   "name": "python",
   "nbconvert_exporter": "python",
   "pygments_lexer": "ipython3",
   "version": "3.7.4"
  }
 },
 "nbformat": 4,
 "nbformat_minor": 2
}
