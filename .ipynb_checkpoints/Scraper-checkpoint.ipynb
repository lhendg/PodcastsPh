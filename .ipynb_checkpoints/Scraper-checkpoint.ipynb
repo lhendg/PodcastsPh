{
 "cells": [
  {
   "cell_type": "code",
   "execution_count": 1,
   "metadata": {},
   "outputs": [],
   "source": [
    "import pandas as pd\n",
    "import requests"
   ]
  },
  {
   "cell_type": "code",
   "execution_count": 2,
   "metadata": {},
   "outputs": [],
   "source": [
    "dataframe = pd.read_excel('data.xlsx')"
   ]
  },
  {
   "cell_type": "code",
   "execution_count": 3,
   "metadata": {},
   "outputs": [
    {
     "data": {
      "text/plain": [
       "Index(['Title', 'Itunes ID', 'Genre IDs', 'Episode Count', 'Episode Durations',\n",
       "       'Description'],\n",
       "      dtype='object')"
      ]
     },
     "execution_count": 3,
     "metadata": {},
     "output_type": "execute_result"
    }
   ],
   "source": [
    "dataframe.columns"
   ]
  },
  {
   "cell_type": "code",
   "execution_count": 4,
   "metadata": {},
   "outputs": [],
   "source": [
    "# Renaming\n",
    "ID = dataframe['Itunes ID']"
   ]
  },
  {
   "cell_type": "code",
   "execution_count": 5,
   "metadata": {},
   "outputs": [],
   "source": [
    "url = 'https://itunes.apple.com/lookup?id='"
   ]
  },
  {
   "cell_type": "code",
   "execution_count": 6,
   "metadata": {},
   "outputs": [],
   "source": [
    "links = []\n",
    "for x in ID: links.append(url+str(x))"
   ]
  },
  {
   "cell_type": "code",
   "execution_count": 7,
   "metadata": {},
   "outputs": [
    {
     "data": {
      "text/plain": [
       "['https://itunes.apple.com/lookup?id=1459227062',\n",
       " 'https://itunes.apple.com/lookup?id=1387922676',\n",
       " 'https://itunes.apple.com/lookup?id=1439313975',\n",
       " 'https://itunes.apple.com/lookup?id=1455713016',\n",
       " 'https://itunes.apple.com/lookup?id=160904630']"
      ]
     },
     "execution_count": 7,
     "metadata": {},
     "output_type": "execute_result"
    }
   ],
   "source": [
    "links"
   ]
  },
  {
   "cell_type": "code",
   "execution_count": 8,
   "metadata": {},
   "outputs": [],
   "source": [
    "response = requests.get(links[0]) \n",
    "data = response.json()\n",
    "results = data[\"results\"]\n",
    "x = results[0]"
   ]
  },
  {
   "cell_type": "code",
   "execution_count": 9,
   "metadata": {},
   "outputs": [],
   "source": [
    "df = pd.DataFrame(x)"
   ]
  },
  {
   "cell_type": "code",
   "execution_count": 10,
   "metadata": {},
   "outputs": [],
   "source": [
    "df = df.drop(0)\n",
    "df = df.drop(1)"
   ]
  },
  {
   "cell_type": "code",
   "execution_count": 11,
   "metadata": {},
   "outputs": [
    {
     "data": {
      "text/html": [
       "<div>\n",
       "<style scoped>\n",
       "    .dataframe tbody tr th:only-of-type {\n",
       "        vertical-align: middle;\n",
       "    }\n",
       "\n",
       "    .dataframe tbody tr th {\n",
       "        vertical-align: top;\n",
       "    }\n",
       "\n",
       "    .dataframe thead th {\n",
       "        text-align: right;\n",
       "    }\n",
       "</style>\n",
       "<table border=\"1\" class=\"dataframe\">\n",
       "  <thead>\n",
       "    <tr style=\"text-align: right;\">\n",
       "      <th></th>\n",
       "      <th>wrapperType</th>\n",
       "      <th>kind</th>\n",
       "      <th>collectionId</th>\n",
       "      <th>trackId</th>\n",
       "      <th>artistName</th>\n",
       "      <th>collectionName</th>\n",
       "      <th>trackName</th>\n",
       "      <th>collectionCensoredName</th>\n",
       "      <th>trackCensoredName</th>\n",
       "      <th>collectionViewUrl</th>\n",
       "      <th>...</th>\n",
       "      <th>collectionExplicitness</th>\n",
       "      <th>trackExplicitness</th>\n",
       "      <th>trackCount</th>\n",
       "      <th>country</th>\n",
       "      <th>currency</th>\n",
       "      <th>primaryGenreName</th>\n",
       "      <th>contentAdvisoryRating</th>\n",
       "      <th>artworkUrl600</th>\n",
       "      <th>genreIds</th>\n",
       "      <th>genres</th>\n",
       "    </tr>\n",
       "  </thead>\n",
       "  <tbody>\n",
       "  </tbody>\n",
       "</table>\n",
       "<p>0 rows × 32 columns</p>\n",
       "</div>"
      ],
      "text/plain": [
       "Empty DataFrame\n",
       "Columns: [wrapperType, kind, collectionId, trackId, artistName, collectionName, trackName, collectionCensoredName, trackCensoredName, collectionViewUrl, feedUrl, trackViewUrl, artworkUrl30, artworkUrl60, artworkUrl100, collectionPrice, trackPrice, trackRentalPrice, collectionHdPrice, trackHdPrice, trackHdRentalPrice, releaseDate, collectionExplicitness, trackExplicitness, trackCount, country, currency, primaryGenreName, contentAdvisoryRating, artworkUrl600, genreIds, genres]\n",
       "Index: []\n",
       "\n",
       "[0 rows x 32 columns]"
      ]
     },
     "execution_count": 11,
     "metadata": {},
     "output_type": "execute_result"
    }
   ],
   "source": [
    "df"
   ]
  },
  {
   "cell_type": "code",
   "execution_count": 12,
   "metadata": {},
   "outputs": [],
   "source": [
    "for link in links:\n",
    "    response = requests.get(link) \n",
    "    data = response.json()\n",
    "    results = data['results']\n",
    "    x = results[0]\n",
    "    df = df.append(x, ignore_index=True)"
   ]
  },
  {
   "cell_type": "code",
   "execution_count": 13,
   "metadata": {},
   "outputs": [
    {
     "data": {
      "text/html": [
       "<div>\n",
       "<style scoped>\n",
       "    .dataframe tbody tr th:only-of-type {\n",
       "        vertical-align: middle;\n",
       "    }\n",
       "\n",
       "    .dataframe tbody tr th {\n",
       "        vertical-align: top;\n",
       "    }\n",
       "\n",
       "    .dataframe thead th {\n",
       "        text-align: right;\n",
       "    }\n",
       "</style>\n",
       "<table border=\"1\" class=\"dataframe\">\n",
       "  <thead>\n",
       "    <tr style=\"text-align: right;\">\n",
       "      <th></th>\n",
       "      <th>wrapperType</th>\n",
       "      <th>kind</th>\n",
       "      <th>collectionId</th>\n",
       "      <th>trackId</th>\n",
       "      <th>artistName</th>\n",
       "      <th>collectionName</th>\n",
       "      <th>trackName</th>\n",
       "      <th>collectionCensoredName</th>\n",
       "      <th>trackCensoredName</th>\n",
       "      <th>collectionViewUrl</th>\n",
       "      <th>...</th>\n",
       "      <th>trackCount</th>\n",
       "      <th>country</th>\n",
       "      <th>currency</th>\n",
       "      <th>primaryGenreName</th>\n",
       "      <th>contentAdvisoryRating</th>\n",
       "      <th>artworkUrl600</th>\n",
       "      <th>genreIds</th>\n",
       "      <th>genres</th>\n",
       "      <th>artistId</th>\n",
       "      <th>artistViewUrl</th>\n",
       "    </tr>\n",
       "  </thead>\n",
       "  <tbody>\n",
       "    <tr>\n",
       "      <td>0</td>\n",
       "      <td>track</td>\n",
       "      <td>podcast</td>\n",
       "      <td>1459227062</td>\n",
       "      <td>1459227062</td>\n",
       "      <td>Boiling Waters PH</td>\n",
       "      <td>Boiling Waters PH</td>\n",
       "      <td>Boiling Waters PH</td>\n",
       "      <td>Boiling Waters PH</td>\n",
       "      <td>Boiling Waters PH</td>\n",
       "      <td>https://podcasts.apple.com/us/podcast/boiling-...</td>\n",
       "      <td>...</td>\n",
       "      <td>63</td>\n",
       "      <td>USA</td>\n",
       "      <td>USD</td>\n",
       "      <td>Comedy</td>\n",
       "      <td>Clean</td>\n",
       "      <td>https://is4-ssl.mzstatic.com/image/thumb/Podca...</td>\n",
       "      <td>[1303, 26]</td>\n",
       "      <td>[Comedy, Podcasts]</td>\n",
       "      <td>NaN</td>\n",
       "      <td>NaN</td>\n",
       "    </tr>\n",
       "    <tr>\n",
       "      <td>1</td>\n",
       "      <td>track</td>\n",
       "      <td>podcast</td>\n",
       "      <td>1387922676</td>\n",
       "      <td>1387922676</td>\n",
       "      <td>info@podcastgarden.com ()</td>\n",
       "      <td>The Morning Rush RX 93.1 - 2018</td>\n",
       "      <td>The Morning Rush RX 93.1 - 2018</td>\n",
       "      <td>The Morning Rush RX 93.1 - 2018</td>\n",
       "      <td>The Morning Rush RX 93.1 - 2018</td>\n",
       "      <td>https://podcasts.apple.com/us/podcast/the-morn...</td>\n",
       "      <td>...</td>\n",
       "      <td>26</td>\n",
       "      <td>USA</td>\n",
       "      <td>USD</td>\n",
       "      <td>Comedy</td>\n",
       "      <td>Clean</td>\n",
       "      <td>https://is4-ssl.mzstatic.com/image/thumb/Podca...</td>\n",
       "      <td>[1303, 26]</td>\n",
       "      <td>[Comedy, Podcasts]</td>\n",
       "      <td>NaN</td>\n",
       "      <td>NaN</td>\n",
       "    </tr>\n",
       "    <tr>\n",
       "      <td>2</td>\n",
       "      <td>track</td>\n",
       "      <td>podcast</td>\n",
       "      <td>1439313975</td>\n",
       "      <td>1439313975</td>\n",
       "      <td>Joyce Pring</td>\n",
       "      <td>Adulting With Joyce Pring</td>\n",
       "      <td>Adulting With Joyce Pring</td>\n",
       "      <td>Adulting With Joyce Pring</td>\n",
       "      <td>Adulting With Joyce Pring</td>\n",
       "      <td>https://podcasts.apple.com/us/podcast/adulting...</td>\n",
       "      <td>...</td>\n",
       "      <td>35</td>\n",
       "      <td>USA</td>\n",
       "      <td>USD</td>\n",
       "      <td>Self-Improvement</td>\n",
       "      <td>Clean</td>\n",
       "      <td>https://is4-ssl.mzstatic.com/image/thumb/Podca...</td>\n",
       "      <td>[1500, 26, 1304]</td>\n",
       "      <td>[Self-Improvement, Podcasts, Education]</td>\n",
       "      <td>NaN</td>\n",
       "      <td>NaN</td>\n",
       "    </tr>\n",
       "    <tr>\n",
       "      <td>3</td>\n",
       "      <td>track</td>\n",
       "      <td>podcast</td>\n",
       "      <td>1455713016</td>\n",
       "      <td>1455713016</td>\n",
       "      <td>Mohan Gumatay</td>\n",
       "      <td>Good Times with Mo: The Podcast Season 7</td>\n",
       "      <td>Good Times with Mo: The Podcast Season 7</td>\n",
       "      <td>Good Times with Mo: The Podcast Season 7</td>\n",
       "      <td>Good Times with Mo: The Podcast Season 7</td>\n",
       "      <td>https://podcasts.apple.com/us/podcast/good-tim...</td>\n",
       "      <td>...</td>\n",
       "      <td>115</td>\n",
       "      <td>USA</td>\n",
       "      <td>USD</td>\n",
       "      <td>Society &amp; Culture</td>\n",
       "      <td>Explicit</td>\n",
       "      <td>https://is2-ssl.mzstatic.com/image/thumb/Podca...</td>\n",
       "      <td>[1324, 26]</td>\n",
       "      <td>[Society &amp; Culture, Podcasts]</td>\n",
       "      <td>NaN</td>\n",
       "      <td>NaN</td>\n",
       "    </tr>\n",
       "    <tr>\n",
       "      <td>4</td>\n",
       "      <td>track</td>\n",
       "      <td>podcast</td>\n",
       "      <td>160904630</td>\n",
       "      <td>160904630</td>\n",
       "      <td>TED</td>\n",
       "      <td>TED Talks Daily</td>\n",
       "      <td>TED Talks Daily</td>\n",
       "      <td>TED Talks Daily</td>\n",
       "      <td>TED Talks Daily</td>\n",
       "      <td>https://podcasts.apple.com/us/podcast/ted-talk...</td>\n",
       "      <td>...</td>\n",
       "      <td>276</td>\n",
       "      <td>USA</td>\n",
       "      <td>USD</td>\n",
       "      <td>Design</td>\n",
       "      <td>Clean</td>\n",
       "      <td>https://is5-ssl.mzstatic.com/image/thumb/Podca...</td>\n",
       "      <td>[1402, 26, 1301, 1304]</td>\n",
       "      <td>[Design, Podcasts, Arts, Education]</td>\n",
       "      <td>204040224.0</td>\n",
       "      <td>https://podcasts.apple.com/us/artist/ted-talks...</td>\n",
       "    </tr>\n",
       "  </tbody>\n",
       "</table>\n",
       "<p>5 rows × 34 columns</p>\n",
       "</div>"
      ],
      "text/plain": [
       "  wrapperType     kind  collectionId     trackId                 artistName  \\\n",
       "0       track  podcast    1459227062  1459227062          Boiling Waters PH   \n",
       "1       track  podcast    1387922676  1387922676  info@podcastgarden.com ()   \n",
       "2       track  podcast    1439313975  1439313975                Joyce Pring   \n",
       "3       track  podcast    1455713016  1455713016              Mohan Gumatay   \n",
       "4       track  podcast     160904630   160904630                        TED   \n",
       "\n",
       "                             collectionName  \\\n",
       "0                         Boiling Waters PH   \n",
       "1           The Morning Rush RX 93.1 - 2018   \n",
       "2                 Adulting With Joyce Pring   \n",
       "3  Good Times with Mo: The Podcast Season 7   \n",
       "4                           TED Talks Daily   \n",
       "\n",
       "                                  trackName  \\\n",
       "0                         Boiling Waters PH   \n",
       "1           The Morning Rush RX 93.1 - 2018   \n",
       "2                 Adulting With Joyce Pring   \n",
       "3  Good Times with Mo: The Podcast Season 7   \n",
       "4                           TED Talks Daily   \n",
       "\n",
       "                     collectionCensoredName  \\\n",
       "0                         Boiling Waters PH   \n",
       "1           The Morning Rush RX 93.1 - 2018   \n",
       "2                 Adulting With Joyce Pring   \n",
       "3  Good Times with Mo: The Podcast Season 7   \n",
       "4                           TED Talks Daily   \n",
       "\n",
       "                          trackCensoredName  \\\n",
       "0                         Boiling Waters PH   \n",
       "1           The Morning Rush RX 93.1 - 2018   \n",
       "2                 Adulting With Joyce Pring   \n",
       "3  Good Times with Mo: The Podcast Season 7   \n",
       "4                           TED Talks Daily   \n",
       "\n",
       "                                   collectionViewUrl  ... trackCount country  \\\n",
       "0  https://podcasts.apple.com/us/podcast/boiling-...  ...         63     USA   \n",
       "1  https://podcasts.apple.com/us/podcast/the-morn...  ...         26     USA   \n",
       "2  https://podcasts.apple.com/us/podcast/adulting...  ...         35     USA   \n",
       "3  https://podcasts.apple.com/us/podcast/good-tim...  ...        115     USA   \n",
       "4  https://podcasts.apple.com/us/podcast/ted-talk...  ...        276     USA   \n",
       "\n",
       "  currency   primaryGenreName contentAdvisoryRating  \\\n",
       "0      USD             Comedy                 Clean   \n",
       "1      USD             Comedy                 Clean   \n",
       "2      USD   Self-Improvement                 Clean   \n",
       "3      USD  Society & Culture              Explicit   \n",
       "4      USD             Design                 Clean   \n",
       "\n",
       "                                       artworkUrl600                genreIds  \\\n",
       "0  https://is4-ssl.mzstatic.com/image/thumb/Podca...              [1303, 26]   \n",
       "1  https://is4-ssl.mzstatic.com/image/thumb/Podca...              [1303, 26]   \n",
       "2  https://is4-ssl.mzstatic.com/image/thumb/Podca...        [1500, 26, 1304]   \n",
       "3  https://is2-ssl.mzstatic.com/image/thumb/Podca...              [1324, 26]   \n",
       "4  https://is5-ssl.mzstatic.com/image/thumb/Podca...  [1402, 26, 1301, 1304]   \n",
       "\n",
       "                                    genres     artistId  \\\n",
       "0                       [Comedy, Podcasts]          NaN   \n",
       "1                       [Comedy, Podcasts]          NaN   \n",
       "2  [Self-Improvement, Podcasts, Education]          NaN   \n",
       "3            [Society & Culture, Podcasts]          NaN   \n",
       "4      [Design, Podcasts, Arts, Education]  204040224.0   \n",
       "\n",
       "                                       artistViewUrl  \n",
       "0                                                NaN  \n",
       "1                                                NaN  \n",
       "2                                                NaN  \n",
       "3                                                NaN  \n",
       "4  https://podcasts.apple.com/us/artist/ted-talks...  \n",
       "\n",
       "[5 rows x 34 columns]"
      ]
     },
     "execution_count": 13,
     "metadata": {},
     "output_type": "execute_result"
    }
   ],
   "source": [
    "df"
   ]
  },
  {
   "cell_type": "code",
   "execution_count": null,
   "metadata": {},
   "outputs": [],
   "source": [
    "results = data[\"results\"]"
   ]
  },
  {
   "cell_type": "code",
   "execution_count": null,
   "metadata": {},
   "outputs": [],
   "source": [
    "x = results[0]"
   ]
  },
  {
   "cell_type": "code",
   "execution_count": null,
   "metadata": {},
   "outputs": [],
   "source": [
    "data = pd.DataFrame(x)"
   ]
  },
  {
   "cell_type": "code",
   "execution_count": null,
   "metadata": {},
   "outputs": [],
   "source": [
    "data"
   ]
  },
  {
   "cell_type": "code",
   "execution_count": null,
   "metadata": {},
   "outputs": [],
   "source": []
  }
 ],
 "metadata": {
  "kernelspec": {
   "display_name": "Python 3",
   "language": "python",
   "name": "python3"
  },
  "language_info": {
   "codemirror_mode": {
    "name": "ipython",
    "version": 3
   },
   "file_extension": ".py",
   "mimetype": "text/x-python",
   "name": "python",
   "nbconvert_exporter": "python",
   "pygments_lexer": "ipython3",
   "version": "3.7.4"
  }
 },
 "nbformat": 4,
 "nbformat_minor": 2
}
