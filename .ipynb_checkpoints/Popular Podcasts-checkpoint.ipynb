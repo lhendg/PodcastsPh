{
 "cells": [
  {
   "cell_type": "code",
   "execution_count": 1,
   "metadata": {},
   "outputs": [],
   "source": [
    "import requests\n",
    "import pattern3.web as web\n",
    "import pandas as pd \n",
    "import numpy as np \n",
    "import matplotlib.pyplot as plt\n",
    "from progressbar import ProgressBar\n",
    "from bs4 import BeautifulSoup"
   ]
  },
  {
   "cell_type": "markdown",
   "metadata": {},
   "source": [
    "<br><br/> "
   ]
  },
  {
   "cell_type": "code",
   "execution_count": 2,
   "metadata": {},
   "outputs": [],
   "source": [
    "class build_dataset(object):\n",
    "    \n",
    "    def __init__(self, terms=None):\n",
    "        \n",
    "        self.names_ = []\n",
    "        self.genres_ = [] \n",
    "        self.genreIDs_ = []\n",
    "        self.IDs_desc_ = []\n",
    "        self.terms = terms \n",
    "        \n",
    "        \n",
    "        \n",
    "\n",
    "\n",
    "    def pull_genres(self, my_data):\n",
    "        \n",
    "\n",
    "        all_genres = [] \n",
    "        all_genreIDs = []\n",
    "        all_genreswithIDs = [] \n",
    "        new_list_IDs = []\n",
    "        urls = [] \n",
    "        rss_feeds = [] \n",
    "        names = []\n",
    "        columns= ['Name', 'Artwork', 'Episode Count', 'GenreIDs', 'iTunes URL', 'FeedURL'] \n",
    "\n",
    "        \n",
    "        pbar = ProgressBar()\n",
    "        \n",
    "        \n",
    "        \n",
    "        \n",
    "        if my_data[\"resultCount\"] != 0: \n",
    "            for elem in pbar(my_data[\"results\"]):   \n",
    "                if \"kind\" in elem.keys(): \n",
    "                    if elem[\"kind\"] == \"podcast\":\n",
    "                        \n",
    "                        if \"trackCount\" in elem.keys():\n",
    "                            if elem[\"trackCount\"] >= 20: \n",
    "                                \n",
    "                                episode_count = elem[\"trackCount\"]\n",
    "                                \n",
    "                                if \"genreIds\" in elem.keys():\n",
    "                                    genreID = elem[\"genreIds\"]\n",
    "                                    all_genreIDs.append(genreID)\n",
    "\n",
    "                                if \"genres\" in elem.keys():\n",
    "                                    genre = elem[\"genres\"] \n",
    "                                    all_genres.append(genre)\n",
    "                                    genresandIDs = list(zip(genreID, genre))\n",
    "                                    all_genreswithIDs.append(genresandIDs)\n",
    "\n",
    "                                if \"collectionName\" in elem.keys():\n",
    "                                    collection_name = elem[\"collectionName\"]\n",
    "                                    names.append(collection_name)\n",
    "\n",
    "\n",
    "                                if \"collectionViewUrl\" in elem.keys(): \n",
    "                                    itunes_url = elem[\"collectionViewUrl\"]\n",
    "                                                                                           \n",
    "                                elif \"trackViewUrl\" in elem.keys():\n",
    "                                    itunes_url = elem[\"trackViewUrl\"]\n",
    "                                    \n",
    "\n",
    "                                if \"feedUrl\" in elem.keys():\n",
    "                                    feedurl = elem[\"feedUrl\"] \n",
    "                                    \n",
    "                                    \n",
    "                                if \"artworkUrl100\" in elem.keys():\n",
    "                                    artwork = elem[\"artworkUrl100\"]\n",
    "                                    \n",
    "                                \n",
    "\n",
    "\n",
    "                                my_row = [collection_name, artwork, episode_count, genreID, itunes_url, feedurl]\n",
    "                                my_row_pd = pd.DataFrame([my_row], columns = columns)                    \n",
    "                                self.df_podcast_ = self.df_podcast_.append(my_row_pd, ignore_index=True)\n",
    "\n",
    "\n",
    "\n",
    "                                self.genres_ = list(set(np.concatenate(all_genres).tolist()))\n",
    "                                self.genreIDs_ = list(set(np.concatenate(all_genreIDs).tolist()))\n",
    "                                self.names_ = names  \n",
    "                                new_list_IDs = np.concatenate(all_genreswithIDs).tolist()\n",
    "                                self.IDs_desc_ = [ii for n,ii in enumerate(new_list_IDs) if ii not in new_list_IDs[:n]]\n",
    "                        \n",
    "                        else:\n",
    "                            pass \n",
    "\n",
    "\n",
    "                    else:\n",
    "                        pass \n",
    "\n",
    "                else:\n",
    "                    pass \n",
    "                   \n",
    "        else: \n",
    "            pass \n",
    "        \n",
    "        return self\n",
    "        \n",
    "\n",
    "    \n",
    "    def build_random_data(self, term):\n",
    "        \n",
    "        \n",
    "        url = \"https://itunes.apple.com/search?term=\" + term + \"&limit=200&country=PH&lan=en_us&entity=podcast\"\n",
    "        \n",
    "        try:\n",
    "            response = requests.get(url) \n",
    "            data = response.json()\n",
    "\n",
    "            print (data[\"resultCount\"])\n",
    "            if data[\"resultCount\"] != 0: \n",
    "                self.pull_genres(data) \n",
    "                return self  \n",
    "            else: \n",
    "                return self\n",
    "        \n",
    "        except ValueError:\n",
    "                pass \n",
    "\n",
    "\n",
    "\n",
    "    def build_genres_data(self, genre):\n",
    "        \n",
    "        url = \"https://itunes.apple.com/search?term=\" + genre + \"&limit=200&country=PH&lan=en_us&entity=podcast\"\n",
    "        \n",
    "        try: \n",
    "            response = requests.get(url) \n",
    "            data = response.json()\n",
    "\n",
    "            if data[\"resultCount\"] != 0: \n",
    "                self.pull_genres(data) \n",
    "                return self  \n",
    "            else: \n",
    "                return self\n",
    "        \n",
    "        except ValueError:\n",
    "                pass \n",
    "\n",
    "\n",
    "        \n",
    "        \n",
    "    def find_genres(self, gnr):\n",
    "        \n",
    "        self.build_genres_data(gnr)\n",
    "\n",
    "        genres_list = self.genres_\n",
    "        names_list = self.names_\n",
    "        IDs_genres_list = self.IDs_desc_\n",
    "\n",
    "        if names_list != []: \n",
    "            for name in names_list:\n",
    "                if name not in self.initial_names_:\n",
    "                    self.initial_names_.append(name)\n",
    "        \n",
    "        if IDs_genres_list != []:\n",
    "            for item in IDs_genres_list:\n",
    "                if item not in self.genres_with_IDs_:\n",
    "                    self.genres_with_IDs_.append(item)\n",
    "\n",
    "        if genres_list != []: \n",
    "            for genre in genres_list:\n",
    "                if genre not in self.initial_genres_:\n",
    "                    self.initial_genres_.append(genre)\n",
    "                    print (\"extra\")\n",
    "                    self.find_genres(genre)\n",
    "                  \n",
    "        return self \n",
    "                    \n",
    "        \n",
    "\n",
    "    def initialize(self):\n",
    "        self.initial_genres_ = None\n",
    "        self.genreIDs_ = None\n",
    "        self.names_ = None \n",
    "        self.genres_with_IDs_ = None\n",
    "        \n",
    "        url = \"https://itunes.apple.com/search?term=podcasts&limit=200&country=US&lan=en_us&entity=podcast\" \n",
    "        \n",
    "        \n",
    "        columns= ['Name', 'Artwork', 'Episode Count', 'GenreIDs', 'iTunes URL', 'FeedURL']\n",
    "        self.df_podcast_ = pd.DataFrame([[0, 0, 0, 0, 0, 0]], columns = columns)\n",
    "\n",
    "        try: \n",
    "            response = requests.get(url) \n",
    "            my_data = response.json()\n",
    "\n",
    "            if my_data[\"resultCount\"] != 0:\n",
    "                self.pull_genres(my_data)\n",
    "\n",
    "                self.initial_genres_ = self.genres_\n",
    "                self.initial_genreIDs_ = self.genreIDs_\n",
    "                self.genres_with_IDs_ = self.IDs_desc_\n",
    "                self.initial_names_ = self.names_\n",
    "                \n",
    "\n",
    "            else: \n",
    "                pass \n",
    "            \n",
    "        except ValueError:\n",
    "            print (\"Decoding JSON has failed\")\n",
    "        \n",
    "\n",
    "                    \n",
    "    def build_data(self):\n",
    "        \n",
    "        terms = self.terms\n",
    "        self.initialize()\n",
    "        \n",
    "        if self.initial_genres_ is not None:\n",
    "            for initial_genre in self.initial_genres_: \n",
    "                self.find_genres(initial_genre)\n",
    "        \n",
    "        print (terms)\n",
    "        if terms is not None:\n",
    "            for term in terms:\n",
    "                self.build_random_data(term)\n",
    "        \n",
    "\n",
    "        return self \n",
    "        "
   ]
  },
  {
   "cell_type": "code",
   "execution_count": 3,
   "metadata": {},
   "outputs": [],
   "source": [
    "more_genres = [\"random\", \"editorial\", \"review\", \"hobbies\", \"fiction\", \"mystery\", \"adventure\", \"romance\", \"humor\"]"
   ]
  },
  {
   "cell_type": "code",
   "execution_count": 4,
   "metadata": {},
   "outputs": [],
   "source": [
    "data_builder = build_dataset(more_genres)"
   ]
  },
  {
   "cell_type": "code",
   "execution_count": 5,
   "metadata": {},
   "outputs": [
    {
     "name": "stderr",
     "output_type": "stream",
     "text": [
      "100% |########################################################################|\n",
      "100% |########################################################################|\n",
      "100% |########################################################################|\n"
     ]
    },
    {
     "name": "stdout",
     "output_type": "stream",
     "text": [
      "extra\n"
     ]
    },
    {
     "name": "stderr",
     "output_type": "stream",
     "text": [
      "100% |########################################################################|\n"
     ]
    },
    {
     "name": "stdout",
     "output_type": "stream",
     "text": [
      "extra\n"
     ]
    },
    {
     "name": "stderr",
     "output_type": "stream",
     "text": [
      "100% |########################################################################|\n"
     ]
    },
    {
     "name": "stdout",
     "output_type": "stream",
     "text": [
      "extra\n"
     ]
    },
    {
     "name": "stderr",
     "output_type": "stream",
     "text": [
      "100% |########################################################################|\n"
     ]
    },
    {
     "name": "stdout",
     "output_type": "stream",
     "text": [
      "extra\n"
     ]
    },
    {
     "name": "stderr",
     "output_type": "stream",
     "text": [
      "100% |########################################################################|\n"
     ]
    },
    {
     "name": "stdout",
     "output_type": "stream",
     "text": [
      "extra\n"
     ]
    },
    {
     "name": "stderr",
     "output_type": "stream",
     "text": [
      "100% |########################################################################|\n"
     ]
    },
    {
     "name": "stdout",
     "output_type": "stream",
     "text": [
      "extra\n"
     ]
    },
    {
     "name": "stderr",
     "output_type": "stream",
     "text": [
      "100% |########################################################################|\n"
     ]
    },
    {
     "name": "stdout",
     "output_type": "stream",
     "text": [
      "extra\n"
     ]
    },
    {
     "name": "stderr",
     "output_type": "stream",
     "text": [
      "100% |########################################################################|\n"
     ]
    },
    {
     "name": "stdout",
     "output_type": "stream",
     "text": [
      "extra\n"
     ]
    },
    {
     "name": "stderr",
     "output_type": "stream",
     "text": [
      "100% |########################################################################|\n"
     ]
    },
    {
     "name": "stdout",
     "output_type": "stream",
     "text": [
      "extra\n"
     ]
    },
    {
     "name": "stderr",
     "output_type": "stream",
     "text": [
      "100% |########################################################################|\n"
     ]
    },
    {
     "name": "stdout",
     "output_type": "stream",
     "text": [
      "extra\n"
     ]
    },
    {
     "name": "stderr",
     "output_type": "stream",
     "text": [
      "100% |########################################################################|\n"
     ]
    },
    {
     "name": "stdout",
     "output_type": "stream",
     "text": [
      "extra\n"
     ]
    },
    {
     "name": "stderr",
     "output_type": "stream",
     "text": [
      "100% |########################################################################|\n"
     ]
    },
    {
     "name": "stdout",
     "output_type": "stream",
     "text": [
      "extra\n"
     ]
    },
    {
     "name": "stderr",
     "output_type": "stream",
     "text": [
      "100% |########################################################################|\n"
     ]
    },
    {
     "name": "stdout",
     "output_type": "stream",
     "text": [
      "extra\n"
     ]
    },
    {
     "name": "stderr",
     "output_type": "stream",
     "text": [
      "100% |########################################################################|\n"
     ]
    },
    {
     "name": "stdout",
     "output_type": "stream",
     "text": [
      "extra\n"
     ]
    },
    {
     "name": "stderr",
     "output_type": "stream",
     "text": [
      "100% |########################################################################|\n"
     ]
    },
    {
     "name": "stdout",
     "output_type": "stream",
     "text": [
      "extra\n"
     ]
    },
    {
     "name": "stderr",
     "output_type": "stream",
     "text": [
      "100% |########################################################################|\n"
     ]
    },
    {
     "name": "stdout",
     "output_type": "stream",
     "text": [
      "extra\n"
     ]
    },
    {
     "name": "stderr",
     "output_type": "stream",
     "text": [
      "100% |########################################################################|\n"
     ]
    },
    {
     "name": "stdout",
     "output_type": "stream",
     "text": [
      "extra\n"
     ]
    },
    {
     "name": "stderr",
     "output_type": "stream",
     "text": [
      "100% |########################################################################|\n"
     ]
    },
    {
     "name": "stdout",
     "output_type": "stream",
     "text": [
      "extra\n"
     ]
    },
    {
     "name": "stderr",
     "output_type": "stream",
     "text": [
      "100% |########################################################################|\n"
     ]
    },
    {
     "name": "stdout",
     "output_type": "stream",
     "text": [
      "extra\n"
     ]
    },
    {
     "name": "stderr",
     "output_type": "stream",
     "text": [
      "100% |########################################################################|\n"
     ]
    },
    {
     "name": "stdout",
     "output_type": "stream",
     "text": [
      "extra\n"
     ]
    },
    {
     "name": "stderr",
     "output_type": "stream",
     "text": [
      "100% |########################################################################|\n"
     ]
    },
    {
     "name": "stdout",
     "output_type": "stream",
     "text": [
      "extra\n"
     ]
    },
    {
     "name": "stderr",
     "output_type": "stream",
     "text": [
      "100% |########################################################################|\n"
     ]
    },
    {
     "name": "stdout",
     "output_type": "stream",
     "text": [
      "extra\n"
     ]
    },
    {
     "name": "stderr",
     "output_type": "stream",
     "text": [
      "100% |########################################################################|\n"
     ]
    },
    {
     "name": "stdout",
     "output_type": "stream",
     "text": [
      "extra\n"
     ]
    },
    {
     "name": "stderr",
     "output_type": "stream",
     "text": [
      "100% |########################################################################|\n"
     ]
    },
    {
     "name": "stdout",
     "output_type": "stream",
     "text": [
      "extra\n"
     ]
    },
    {
     "name": "stderr",
     "output_type": "stream",
     "text": [
      "100% |########################################################################|\n"
     ]
    },
    {
     "name": "stdout",
     "output_type": "stream",
     "text": [
      "extra\n"
     ]
    },
    {
     "name": "stderr",
     "output_type": "stream",
     "text": [
      "100% |########################################################################|\n"
     ]
    },
    {
     "name": "stdout",
     "output_type": "stream",
     "text": [
      "extra\n"
     ]
    },
    {
     "name": "stderr",
     "output_type": "stream",
     "text": [
      "100% |########################################################################|\n"
     ]
    },
    {
     "name": "stdout",
     "output_type": "stream",
     "text": [
      "extra\n"
     ]
    },
    {
     "name": "stderr",
     "output_type": "stream",
     "text": [
      "100% |########################################################################|\n"
     ]
    },
    {
     "name": "stdout",
     "output_type": "stream",
     "text": [
      "extra\n"
     ]
    },
    {
     "name": "stderr",
     "output_type": "stream",
     "text": [
      "100% |########################################################################|\n"
     ]
    },
    {
     "name": "stdout",
     "output_type": "stream",
     "text": [
      "extra\n"
     ]
    },
    {
     "name": "stderr",
     "output_type": "stream",
     "text": [
      "100% |########################################################################|\n"
     ]
    },
    {
     "name": "stdout",
     "output_type": "stream",
     "text": [
      "extra\n"
     ]
    },
    {
     "name": "stderr",
     "output_type": "stream",
     "text": [
      "100% |########################################################################|\n"
     ]
    },
    {
     "name": "stdout",
     "output_type": "stream",
     "text": [
      "extra\n"
     ]
    },
    {
     "name": "stderr",
     "output_type": "stream",
     "text": [
      "100% |########################################################################|\n"
     ]
    },
    {
     "name": "stdout",
     "output_type": "stream",
     "text": [
      "extra\n"
     ]
    },
    {
     "name": "stderr",
     "output_type": "stream",
     "text": [
      "100% |########################################################################|\n"
     ]
    },
    {
     "name": "stdout",
     "output_type": "stream",
     "text": [
      "extra\n"
     ]
    },
    {
     "name": "stderr",
     "output_type": "stream",
     "text": [
      "100% |########################################################################|\n"
     ]
    },
    {
     "name": "stdout",
     "output_type": "stream",
     "text": [
      "extra\n"
     ]
    },
    {
     "name": "stderr",
     "output_type": "stream",
     "text": [
      "100% |########################################################################|\n"
     ]
    },
    {
     "name": "stdout",
     "output_type": "stream",
     "text": [
      "extra\n"
     ]
    },
    {
     "name": "stderr",
     "output_type": "stream",
     "text": [
      "100% |########################################################################|\n"
     ]
    },
    {
     "name": "stdout",
     "output_type": "stream",
     "text": [
      "extra\n"
     ]
    },
    {
     "name": "stderr",
     "output_type": "stream",
     "text": [
      "100% |########################################################################|\n"
     ]
    },
    {
     "name": "stdout",
     "output_type": "stream",
     "text": [
      "extra\n"
     ]
    },
    {
     "name": "stderr",
     "output_type": "stream",
     "text": [
      "100% |########################################################################|\n",
      "100% |########################################################################|\n",
      "100% |########################################################################|\n",
      "100% |########################################################################|\n",
      "100% |########################################################################|\n",
      "100% |########################################################################|\n",
      "100% |########################################################################|\n",
      "100% |########################################################################|\n"
     ]
    },
    {
     "name": "stdout",
     "output_type": "stream",
     "text": [
      "extra\n"
     ]
    },
    {
     "name": "stderr",
     "output_type": "stream",
     "text": [
      "  0% |                                                                        |\r"
     ]
    },
    {
     "ename": "UnboundLocalError",
     "evalue": "local variable 'feedurl' referenced before assignment",
     "output_type": "error",
     "traceback": [
      "\u001b[1;31m---------------------------------------------------------------------------\u001b[0m",
      "\u001b[1;31mUnboundLocalError\u001b[0m                         Traceback (most recent call last)",
      "\u001b[1;32m<ipython-input-5-e7958c24ad14>\u001b[0m in \u001b[0;36m<module>\u001b[1;34m\u001b[0m\n\u001b[1;32m----> 1\u001b[1;33m \u001b[0mdata_builder\u001b[0m\u001b[1;33m.\u001b[0m\u001b[0mbuild_data\u001b[0m\u001b[1;33m(\u001b[0m\u001b[1;33m)\u001b[0m\u001b[1;33m\u001b[0m\u001b[1;33m\u001b[0m\u001b[0m\n\u001b[0m",
      "\u001b[1;32m<ipython-input-2-f1c941c507c9>\u001b[0m in \u001b[0;36mbuild_data\u001b[1;34m(self)\u001b[0m\n\u001b[0;32m    212\u001b[0m         \u001b[1;32mif\u001b[0m \u001b[0mself\u001b[0m\u001b[1;33m.\u001b[0m\u001b[0minitial_genres_\u001b[0m \u001b[1;32mis\u001b[0m \u001b[1;32mnot\u001b[0m \u001b[1;32mNone\u001b[0m\u001b[1;33m:\u001b[0m\u001b[1;33m\u001b[0m\u001b[1;33m\u001b[0m\u001b[0m\n\u001b[0;32m    213\u001b[0m             \u001b[1;32mfor\u001b[0m \u001b[0minitial_genre\u001b[0m \u001b[1;32min\u001b[0m \u001b[0mself\u001b[0m\u001b[1;33m.\u001b[0m\u001b[0minitial_genres_\u001b[0m\u001b[1;33m:\u001b[0m\u001b[1;33m\u001b[0m\u001b[1;33m\u001b[0m\u001b[0m\n\u001b[1;32m--> 214\u001b[1;33m                 \u001b[0mself\u001b[0m\u001b[1;33m.\u001b[0m\u001b[0mfind_genres\u001b[0m\u001b[1;33m(\u001b[0m\u001b[0minitial_genre\u001b[0m\u001b[1;33m)\u001b[0m\u001b[1;33m\u001b[0m\u001b[1;33m\u001b[0m\u001b[0m\n\u001b[0m\u001b[0;32m    215\u001b[0m \u001b[1;33m\u001b[0m\u001b[0m\n\u001b[0;32m    216\u001b[0m         \u001b[0mprint\u001b[0m \u001b[1;33m(\u001b[0m\u001b[0mterms\u001b[0m\u001b[1;33m)\u001b[0m\u001b[1;33m\u001b[0m\u001b[1;33m\u001b[0m\u001b[0m\n",
      "\u001b[1;32m<ipython-input-2-f1c941c507c9>\u001b[0m in \u001b[0;36mfind_genres\u001b[1;34m(self, gnr)\u001b[0m\n\u001b[0;32m    166\u001b[0m                     \u001b[0mself\u001b[0m\u001b[1;33m.\u001b[0m\u001b[0minitial_genres_\u001b[0m\u001b[1;33m.\u001b[0m\u001b[0mappend\u001b[0m\u001b[1;33m(\u001b[0m\u001b[0mgenre\u001b[0m\u001b[1;33m)\u001b[0m\u001b[1;33m\u001b[0m\u001b[1;33m\u001b[0m\u001b[0m\n\u001b[0;32m    167\u001b[0m                     \u001b[0mprint\u001b[0m \u001b[1;33m(\u001b[0m\u001b[1;34m\"extra\"\u001b[0m\u001b[1;33m)\u001b[0m\u001b[1;33m\u001b[0m\u001b[1;33m\u001b[0m\u001b[0m\n\u001b[1;32m--> 168\u001b[1;33m                     \u001b[0mself\u001b[0m\u001b[1;33m.\u001b[0m\u001b[0mfind_genres\u001b[0m\u001b[1;33m(\u001b[0m\u001b[0mgenre\u001b[0m\u001b[1;33m)\u001b[0m\u001b[1;33m\u001b[0m\u001b[1;33m\u001b[0m\u001b[0m\n\u001b[0m\u001b[0;32m    169\u001b[0m \u001b[1;33m\u001b[0m\u001b[0m\n\u001b[0;32m    170\u001b[0m         \u001b[1;32mreturn\u001b[0m \u001b[0mself\u001b[0m\u001b[1;33m\u001b[0m\u001b[1;33m\u001b[0m\u001b[0m\n",
      "\u001b[1;32m<ipython-input-2-f1c941c507c9>\u001b[0m in \u001b[0;36mfind_genres\u001b[1;34m(self, gnr)\u001b[0m\n\u001b[0;32m    145\u001b[0m     \u001b[1;32mdef\u001b[0m \u001b[0mfind_genres\u001b[0m\u001b[1;33m(\u001b[0m\u001b[0mself\u001b[0m\u001b[1;33m,\u001b[0m \u001b[0mgnr\u001b[0m\u001b[1;33m)\u001b[0m\u001b[1;33m:\u001b[0m\u001b[1;33m\u001b[0m\u001b[1;33m\u001b[0m\u001b[0m\n\u001b[0;32m    146\u001b[0m \u001b[1;33m\u001b[0m\u001b[0m\n\u001b[1;32m--> 147\u001b[1;33m         \u001b[0mself\u001b[0m\u001b[1;33m.\u001b[0m\u001b[0mbuild_genres_data\u001b[0m\u001b[1;33m(\u001b[0m\u001b[0mgnr\u001b[0m\u001b[1;33m)\u001b[0m\u001b[1;33m\u001b[0m\u001b[1;33m\u001b[0m\u001b[0m\n\u001b[0m\u001b[0;32m    148\u001b[0m \u001b[1;33m\u001b[0m\u001b[0m\n\u001b[0;32m    149\u001b[0m         \u001b[0mgenres_list\u001b[0m \u001b[1;33m=\u001b[0m \u001b[0mself\u001b[0m\u001b[1;33m.\u001b[0m\u001b[0mgenres_\u001b[0m\u001b[1;33m\u001b[0m\u001b[1;33m\u001b[0m\u001b[0m\n",
      "\u001b[1;32m<ipython-input-2-f1c941c507c9>\u001b[0m in \u001b[0;36mbuild_genres_data\u001b[1;34m(self, genre)\u001b[0m\n\u001b[0;32m    132\u001b[0m \u001b[1;33m\u001b[0m\u001b[0m\n\u001b[0;32m    133\u001b[0m             \u001b[1;32mif\u001b[0m \u001b[0mdata\u001b[0m\u001b[1;33m[\u001b[0m\u001b[1;34m\"resultCount\"\u001b[0m\u001b[1;33m]\u001b[0m \u001b[1;33m!=\u001b[0m \u001b[1;36m0\u001b[0m\u001b[1;33m:\u001b[0m\u001b[1;33m\u001b[0m\u001b[1;33m\u001b[0m\u001b[0m\n\u001b[1;32m--> 134\u001b[1;33m                 \u001b[0mself\u001b[0m\u001b[1;33m.\u001b[0m\u001b[0mpull_genres\u001b[0m\u001b[1;33m(\u001b[0m\u001b[0mdata\u001b[0m\u001b[1;33m)\u001b[0m\u001b[1;33m\u001b[0m\u001b[1;33m\u001b[0m\u001b[0m\n\u001b[0m\u001b[0;32m    135\u001b[0m                 \u001b[1;32mreturn\u001b[0m \u001b[0mself\u001b[0m\u001b[1;33m\u001b[0m\u001b[1;33m\u001b[0m\u001b[0m\n\u001b[0;32m    136\u001b[0m             \u001b[1;32melse\u001b[0m\u001b[1;33m:\u001b[0m\u001b[1;33m\u001b[0m\u001b[1;33m\u001b[0m\u001b[0m\n",
      "\u001b[1;32m<ipython-input-2-f1c941c507c9>\u001b[0m in \u001b[0;36mpull_genres\u001b[1;34m(self, my_data)\u001b[0m\n\u001b[0;32m     73\u001b[0m \u001b[1;33m\u001b[0m\u001b[0m\n\u001b[0;32m     74\u001b[0m \u001b[1;33m\u001b[0m\u001b[0m\n\u001b[1;32m---> 75\u001b[1;33m                                 \u001b[0mmy_row\u001b[0m \u001b[1;33m=\u001b[0m \u001b[1;33m[\u001b[0m\u001b[0mcollection_name\u001b[0m\u001b[1;33m,\u001b[0m \u001b[0martwork\u001b[0m\u001b[1;33m,\u001b[0m \u001b[0mepisode_count\u001b[0m\u001b[1;33m,\u001b[0m \u001b[0mgenreID\u001b[0m\u001b[1;33m,\u001b[0m \u001b[0mitunes_url\u001b[0m\u001b[1;33m,\u001b[0m \u001b[0mfeedurl\u001b[0m\u001b[1;33m]\u001b[0m\u001b[1;33m\u001b[0m\u001b[1;33m\u001b[0m\u001b[0m\n\u001b[0m\u001b[0;32m     76\u001b[0m                                 \u001b[0mmy_row_pd\u001b[0m \u001b[1;33m=\u001b[0m \u001b[0mpd\u001b[0m\u001b[1;33m.\u001b[0m\u001b[0mDataFrame\u001b[0m\u001b[1;33m(\u001b[0m\u001b[1;33m[\u001b[0m\u001b[0mmy_row\u001b[0m\u001b[1;33m]\u001b[0m\u001b[1;33m,\u001b[0m \u001b[0mcolumns\u001b[0m \u001b[1;33m=\u001b[0m \u001b[0mcolumns\u001b[0m\u001b[1;33m)\u001b[0m\u001b[1;33m\u001b[0m\u001b[1;33m\u001b[0m\u001b[0m\n\u001b[0;32m     77\u001b[0m                                 \u001b[0mself\u001b[0m\u001b[1;33m.\u001b[0m\u001b[0mdf_podcast_\u001b[0m \u001b[1;33m=\u001b[0m \u001b[0mself\u001b[0m\u001b[1;33m.\u001b[0m\u001b[0mdf_podcast_\u001b[0m\u001b[1;33m.\u001b[0m\u001b[0mappend\u001b[0m\u001b[1;33m(\u001b[0m\u001b[0mmy_row_pd\u001b[0m\u001b[1;33m,\u001b[0m \u001b[0mignore_index\u001b[0m\u001b[1;33m=\u001b[0m\u001b[1;32mTrue\u001b[0m\u001b[1;33m)\u001b[0m\u001b[1;33m\u001b[0m\u001b[1;33m\u001b[0m\u001b[0m\n",
      "\u001b[1;31mUnboundLocalError\u001b[0m: local variable 'feedurl' referenced before assignment"
     ]
    }
   ],
   "source": [
    "data_builder.build_data()"
   ]
  },
  {
   "cell_type": "code",
   "execution_count": 6,
   "metadata": {},
   "outputs": [],
   "source": [
    "genre_IDs = data_builder.genres_with_IDs_\n",
    "\n",
    "with open('genre_IDs.txt','a') as t:\n",
    "    t.write('\\n' + str(genre_IDs))      \n",
    "    t.close()"
   ]
  },
  {
   "cell_type": "code",
   "execution_count": 7,
   "metadata": {},
   "outputs": [],
   "source": [
    "podcast_dataframe = data_builder.df_podcast_.drop_duplicates(['Name']).reset_index(drop=True)"
   ]
  },
  {
   "cell_type": "code",
   "execution_count": 8,
   "metadata": {},
   "outputs": [],
   "source": [
    "podcast_dataframe.drop(podcast_dataframe.index[0], inplace=True)"
   ]
  },
  {
   "cell_type": "code",
   "execution_count": 9,
   "metadata": {},
   "outputs": [],
   "source": [
    "podcast_dataframe = podcast_dataframe.reset_index(drop=True)"
   ]
  },
  {
   "cell_type": "code",
   "execution_count": 10,
   "metadata": {},
   "outputs": [],
   "source": [
    "podcast_dataframe.to_csv(\"df_01.csv\", index=False)"
   ]
  },
  {
   "cell_type": "code",
   "execution_count": 11,
   "metadata": {},
   "outputs": [
    {
     "data": {
      "text/html": [
       "<div>\n",
       "<style scoped>\n",
       "    .dataframe tbody tr th:only-of-type {\n",
       "        vertical-align: middle;\n",
       "    }\n",
       "\n",
       "    .dataframe tbody tr th {\n",
       "        vertical-align: top;\n",
       "    }\n",
       "\n",
       "    .dataframe thead th {\n",
       "        text-align: right;\n",
       "    }\n",
       "</style>\n",
       "<table border=\"1\" class=\"dataframe\">\n",
       "  <thead>\n",
       "    <tr style=\"text-align: right;\">\n",
       "      <th></th>\n",
       "      <th>Name</th>\n",
       "      <th>Artwork</th>\n",
       "      <th>Episode Count</th>\n",
       "      <th>GenreIDs</th>\n",
       "      <th>iTunes URL</th>\n",
       "      <th>FeedURL</th>\n",
       "    </tr>\n",
       "  </thead>\n",
       "  <tbody>\n",
       "    <tr>\n",
       "      <td>0</td>\n",
       "      <td>The Joe Rogan Experience</td>\n",
       "      <td>https://is5-ssl.mzstatic.com/image/thumb/Podca...</td>\n",
       "      <td>300</td>\n",
       "      <td>[1303, 26, 1324]</td>\n",
       "      <td>https://podcasts.apple.com/us/podcast/the-joe-...</td>\n",
       "      <td>http://joeroganexp.joerogan.libsynpro.com/rss</td>\n",
       "    </tr>\n",
       "    <tr>\n",
       "      <td>1</td>\n",
       "      <td>Stuff You Should Know</td>\n",
       "      <td>https://is1-ssl.mzstatic.com/image/thumb/Podca...</td>\n",
       "      <td>300</td>\n",
       "      <td>[1324, 26]</td>\n",
       "      <td>https://podcasts.apple.com/us/podcast/stuff-yo...</td>\n",
       "      <td>https://feeds.megaphone.fm/stuffyoushouldknow</td>\n",
       "    </tr>\n",
       "    <tr>\n",
       "      <td>2</td>\n",
       "      <td>Serial</td>\n",
       "      <td>https://is4-ssl.mzstatic.com/image/thumb/Podca...</td>\n",
       "      <td>36</td>\n",
       "      <td>[1489, 26, 1488]</td>\n",
       "      <td>https://podcasts.apple.com/us/podcast/serial/i...</td>\n",
       "      <td>http://feeds.serialpodcast.org/serialpodcast</td>\n",
       "    </tr>\n",
       "    <tr>\n",
       "      <td>3</td>\n",
       "      <td>Fresh Air</td>\n",
       "      <td>https://is3-ssl.mzstatic.com/image/thumb/Podca...</td>\n",
       "      <td>50</td>\n",
       "      <td>[1482, 26, 1301, 1309]</td>\n",
       "      <td>https://podcasts.apple.com/us/podcast/fresh-ai...</td>\n",
       "      <td>https://www.npr.org/rss/podcast.php?id=381444908</td>\n",
       "    </tr>\n",
       "    <tr>\n",
       "      <td>4</td>\n",
       "      <td>Real Time with Bill Maher</td>\n",
       "      <td>https://is2-ssl.mzstatic.com/image/thumb/Podca...</td>\n",
       "      <td>300</td>\n",
       "      <td>[1489, 26]</td>\n",
       "      <td>https://podcasts.apple.com/us/podcast/real-tim...</td>\n",
       "      <td>http://billmaher.hbo.libsynpro.com/rss</td>\n",
       "    </tr>\n",
       "    <tr>\n",
       "      <td>...</td>\n",
       "      <td>...</td>\n",
       "      <td>...</td>\n",
       "      <td>...</td>\n",
       "      <td>...</td>\n",
       "      <td>...</td>\n",
       "      <td>...</td>\n",
       "    </tr>\n",
       "    <tr>\n",
       "      <td>3848</td>\n",
       "      <td>Psychology in 10 Minutes</td>\n",
       "      <td>https://is2-ssl.mzstatic.com/image/thumb/Podca...</td>\n",
       "      <td>29</td>\n",
       "      <td>[1533, 26]</td>\n",
       "      <td>https://podcasts.apple.com/us/podcast/psycholo...</td>\n",
       "      <td>http://feeds.soundcloud.com/users/soundcloud:u...</td>\n",
       "    </tr>\n",
       "    <tr>\n",
       "      <td>3849</td>\n",
       "      <td>The Science of Getting Rich Podcast with Geral...</td>\n",
       "      <td>https://is5-ssl.mzstatic.com/image/thumb/Podca...</td>\n",
       "      <td>100</td>\n",
       "      <td>[1500, 26, 1304, 1321, 1493]</td>\n",
       "      <td>https://podcasts.apple.com/us/podcast/the-scie...</td>\n",
       "      <td>https://scienceofgettingrich.podbean.com/feed.xml</td>\n",
       "    </tr>\n",
       "    <tr>\n",
       "      <td>3850</td>\n",
       "      <td>omega tau science &amp; engineering podcast » Podc...</td>\n",
       "      <td>https://is5-ssl.mzstatic.com/image/thumb/Podca...</td>\n",
       "      <td>300</td>\n",
       "      <td>[1533, 26, 1318]</td>\n",
       "      <td>https://podcasts.apple.com/us/podcast/omega-ta...</td>\n",
       "      <td>http://omegataupodcast.net/?feed=podcast</td>\n",
       "    </tr>\n",
       "    <tr>\n",
       "      <td>3851</td>\n",
       "      <td>Techathlon</td>\n",
       "      <td>https://is5-ssl.mzstatic.com/image/thumb/Podca...</td>\n",
       "      <td>44</td>\n",
       "      <td>[1318, 26]</td>\n",
       "      <td>https://podcasts.apple.com/us/podcast/techathl...</td>\n",
       "      <td>https://anchor.fm/s/89d04c4/podcast/rss</td>\n",
       "    </tr>\n",
       "    <tr>\n",
       "      <td>3852</td>\n",
       "      <td>School of Computer Science (Video)</td>\n",
       "      <td>https://is4-ssl.mzstatic.com/image/thumb/Podca...</td>\n",
       "      <td>24</td>\n",
       "      <td>[1318, 26]</td>\n",
       "      <td>https://podcasts.apple.com/us/podcast/school-o...</td>\n",
       "      <td>https://anchor.fm/s/89d04c4/podcast/rss</td>\n",
       "    </tr>\n",
       "  </tbody>\n",
       "</table>\n",
       "<p>3853 rows × 6 columns</p>\n",
       "</div>"
      ],
      "text/plain": [
       "                                                   Name  \\\n",
       "0                              The Joe Rogan Experience   \n",
       "1                                 Stuff You Should Know   \n",
       "2                                                Serial   \n",
       "3                                             Fresh Air   \n",
       "4                             Real Time with Bill Maher   \n",
       "...                                                 ...   \n",
       "3848                           Psychology in 10 Minutes   \n",
       "3849  The Science of Getting Rich Podcast with Geral...   \n",
       "3850  omega tau science & engineering podcast » Podc...   \n",
       "3851                                         Techathlon   \n",
       "3852                 School of Computer Science (Video)   \n",
       "\n",
       "                                                Artwork  Episode Count  \\\n",
       "0     https://is5-ssl.mzstatic.com/image/thumb/Podca...            300   \n",
       "1     https://is1-ssl.mzstatic.com/image/thumb/Podca...            300   \n",
       "2     https://is4-ssl.mzstatic.com/image/thumb/Podca...             36   \n",
       "3     https://is3-ssl.mzstatic.com/image/thumb/Podca...             50   \n",
       "4     https://is2-ssl.mzstatic.com/image/thumb/Podca...            300   \n",
       "...                                                 ...            ...   \n",
       "3848  https://is2-ssl.mzstatic.com/image/thumb/Podca...             29   \n",
       "3849  https://is5-ssl.mzstatic.com/image/thumb/Podca...            100   \n",
       "3850  https://is5-ssl.mzstatic.com/image/thumb/Podca...            300   \n",
       "3851  https://is5-ssl.mzstatic.com/image/thumb/Podca...             44   \n",
       "3852  https://is4-ssl.mzstatic.com/image/thumb/Podca...             24   \n",
       "\n",
       "                          GenreIDs  \\\n",
       "0                 [1303, 26, 1324]   \n",
       "1                       [1324, 26]   \n",
       "2                 [1489, 26, 1488]   \n",
       "3           [1482, 26, 1301, 1309]   \n",
       "4                       [1489, 26]   \n",
       "...                            ...   \n",
       "3848                    [1533, 26]   \n",
       "3849  [1500, 26, 1304, 1321, 1493]   \n",
       "3850              [1533, 26, 1318]   \n",
       "3851                    [1318, 26]   \n",
       "3852                    [1318, 26]   \n",
       "\n",
       "                                             iTunes URL  \\\n",
       "0     https://podcasts.apple.com/us/podcast/the-joe-...   \n",
       "1     https://podcasts.apple.com/us/podcast/stuff-yo...   \n",
       "2     https://podcasts.apple.com/us/podcast/serial/i...   \n",
       "3     https://podcasts.apple.com/us/podcast/fresh-ai...   \n",
       "4     https://podcasts.apple.com/us/podcast/real-tim...   \n",
       "...                                                 ...   \n",
       "3848  https://podcasts.apple.com/us/podcast/psycholo...   \n",
       "3849  https://podcasts.apple.com/us/podcast/the-scie...   \n",
       "3850  https://podcasts.apple.com/us/podcast/omega-ta...   \n",
       "3851  https://podcasts.apple.com/us/podcast/techathl...   \n",
       "3852  https://podcasts.apple.com/us/podcast/school-o...   \n",
       "\n",
       "                                                FeedURL  \n",
       "0         http://joeroganexp.joerogan.libsynpro.com/rss  \n",
       "1         https://feeds.megaphone.fm/stuffyoushouldknow  \n",
       "2          http://feeds.serialpodcast.org/serialpodcast  \n",
       "3      https://www.npr.org/rss/podcast.php?id=381444908  \n",
       "4                http://billmaher.hbo.libsynpro.com/rss  \n",
       "...                                                 ...  \n",
       "3848  http://feeds.soundcloud.com/users/soundcloud:u...  \n",
       "3849  https://scienceofgettingrich.podbean.com/feed.xml  \n",
       "3850           http://omegataupodcast.net/?feed=podcast  \n",
       "3851            https://anchor.fm/s/89d04c4/podcast/rss  \n",
       "3852            https://anchor.fm/s/89d04c4/podcast/rss  \n",
       "\n",
       "[3853 rows x 6 columns]"
      ]
     },
     "execution_count": 11,
     "metadata": {},
     "output_type": "execute_result"
    }
   ],
   "source": [
    "podcast_dataframe"
   ]
  },
  {
   "cell_type": "code",
   "execution_count": null,
   "metadata": {},
   "outputs": [],
   "source": []
  }
 ],
 "metadata": {
  "kernelspec": {
   "display_name": "Python 3",
   "language": "python",
   "name": "python3"
  },
  "language_info": {
   "codemirror_mode": {
    "name": "ipython",
    "version": 3
   },
   "file_extension": ".py",
   "mimetype": "text/x-python",
   "name": "python",
   "nbconvert_exporter": "python",
   "pygments_lexer": "ipython3",
   "version": "3.7.4"
  }
 },
 "nbformat": 4,
 "nbformat_minor": 2
}
