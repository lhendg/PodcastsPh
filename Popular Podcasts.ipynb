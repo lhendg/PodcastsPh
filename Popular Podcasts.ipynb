{
 "cells": [
  {
   "cell_type": "code",
   "execution_count": 1,
   "metadata": {},
   "outputs": [],
   "source": [
    "import requests\n",
    "import pattern3.web as web\n",
    "import pandas as pd \n",
    "import numpy as np \n",
    "import matplotlib.pyplot as plt\n",
    "from progressbar import ProgressBar\n",
    "from bs4 import BeautifulSoup"
   ]
  },
  {
   "cell_type": "markdown",
   "metadata": {},
   "source": [
    "<br><br/> "
   ]
  },
  {
   "cell_type": "code",
   "execution_count": 12,
   "metadata": {},
   "outputs": [],
   "source": [
    "class build_dataset(object):\n",
    "    \n",
    "    def __init__(self, terms=None):\n",
    "        \n",
    "        self.names_ = []\n",
    "        self.genres_ = [] \n",
    "        self.genreIDs_ = []\n",
    "        self.IDs_desc_ = []\n",
    "        self.terms = terms \n",
    "        \n",
    "        \n",
    "        \n",
    "\n",
    "\n",
    "    def pull_genres(self, my_data):\n",
    "        \n",
    "\n",
    "        all_genres = [] \n",
    "        all_genreIDs = []\n",
    "        all_genreswithIDs = [] \n",
    "        new_list_IDs = []\n",
    "        urls = [] \n",
    "        rss_feeds = [] \n",
    "        names = []\n",
    "        columns= ['Name', 'Artwork', 'Episode Count', 'GenreIDs', 'iTunes URL', 'FeedURL'] \n",
    "\n",
    "        \n",
    "        pbar = ProgressBar()\n",
    "        \n",
    "        \n",
    "        \n",
    "        \n",
    "        if my_data[\"resultCount\"] != 0: \n",
    "            for elem in pbar(my_data[\"results\"]):   \n",
    "                if \"kind\" in elem.keys(): \n",
    "                    if elem[\"kind\"] == \"podcast\":\n",
    "                        \n",
    "                        if \"trackCount\" in elem.keys():\n",
    "                            if elem[\"trackCount\"] >= 20: \n",
    "                                \n",
    "                                episode_count = elem[\"trackCount\"]\n",
    "                                \n",
    "                                if \"genreIds\" in elem.keys():\n",
    "                                    genreID = elem[\"genreIds\"]\n",
    "                                    all_genreIDs.append(genreID)\n",
    "\n",
    "                                if \"genres\" in elem.keys():\n",
    "                                    genre = elem[\"genres\"] \n",
    "                                    all_genres.append(genre)\n",
    "                                    genresandIDs = list(zip(genreID, genre))\n",
    "                                    all_genreswithIDs.append(genresandIDs)\n",
    "\n",
    "                                if \"collectionName\" in elem.keys():\n",
    "                                    collection_name = elem[\"collectionName\"]\n",
    "                                    names.append(collection_name)\n",
    "\n",
    "\n",
    "                                if \"collectionViewUrl\" in elem.keys(): \n",
    "                                    itunes_url = elem[\"collectionViewUrl\"]\n",
    "                                                                                           \n",
    "                                elif \"trackViewUrl\" in elem.keys():\n",
    "                                    itunes_url = elem[\"trackViewUrl\"]\n",
    "                                    \n",
    "\n",
    "                                if \"feedUrl\" in elem.keys():\n",
    "                                    feedurl = elem[\"feedUrl\"] \n",
    "                                    \n",
    "                                    \n",
    "                                if \"artworkUrl100\" in elem.keys():\n",
    "                                    artwork = elem[\"artworkUrl100\"]\n",
    "                                    \n",
    "                                \n",
    "\n",
    "\n",
    "                                my_row = [collection_name, artwork, episode_count, genreID, itunes_url, feedurl]\n",
    "                                my_row_pd = pd.DataFrame([my_row], columns = columns)                    \n",
    "                                self.df_podcast_ = self.df_podcast_.append(my_row_pd, ignore_index=True)\n",
    "\n",
    "\n",
    "\n",
    "                                self.genres_ = list(set(np.concatenate(all_genres).tolist()))\n",
    "                                self.genreIDs_ = list(set(np.concatenate(all_genreIDs).tolist()))\n",
    "                                self.names_ = names  \n",
    "                                new_list_IDs = np.concatenate(all_genreswithIDs).tolist()\n",
    "                                self.IDs_desc_ = [ii for n,ii in enumerate(new_list_IDs) if ii not in new_list_IDs[:n]]\n",
    "                        \n",
    "                        else:\n",
    "                            pass \n",
    "\n",
    "\n",
    "                    else:\n",
    "                        pass \n",
    "\n",
    "                else:\n",
    "                    pass \n",
    "                   \n",
    "        else: \n",
    "            pass \n",
    "        \n",
    "        return self\n",
    "        \n",
    "\n",
    "    \n",
    "    def build_random_data(self, term):\n",
    "        \n",
    "        \n",
    "        url = \"https://itunes.apple.com/search?term=\" + term + \"&limit=200&country=PH&lan=en_us&entity=podcast\"\n",
    "        \n",
    "        try:\n",
    "            response = requests.get(url) \n",
    "            data = response.json()\n",
    "\n",
    "            print (data[\"resultCount\"])\n",
    "            if data[\"resultCount\"] != 0: \n",
    "                self.pull_genres(data) \n",
    "                return self  \n",
    "            else: \n",
    "                return self\n",
    "        \n",
    "        except ValueError:\n",
    "                pass \n",
    "\n",
    "\n",
    "\n",
    "    def build_genres_data(self, genre):\n",
    "        \n",
    "        url = \"https://itunes.apple.com/search?term=\" + genre + \"&limit=200&country=PH&lan=en_us&entity=podcast\"\n",
    "        \n",
    "        try: \n",
    "            response = requests.get(url) \n",
    "            data = response.json()\n",
    "\n",
    "            if data[\"resultCount\"] != 0: \n",
    "                self.pull_genres(data) \n",
    "                return self  \n",
    "            else: \n",
    "                return self\n",
    "        \n",
    "        except ValueError:\n",
    "                pass \n",
    "\n",
    "\n",
    "        \n",
    "        \n",
    "    def find_genres(self, gnr):\n",
    "        \n",
    "        self.build_genres_data(gnr)\n",
    "\n",
    "        genres_list = self.genres_\n",
    "        names_list = self.names_\n",
    "        IDs_genres_list = self.IDs_desc_\n",
    "\n",
    "        if names_list != []: \n",
    "            for name in names_list:\n",
    "                if name not in self.initial_names_:\n",
    "                    self.initial_names_.append(name)\n",
    "        \n",
    "        if IDs_genres_list != []:\n",
    "            for item in IDs_genres_list:\n",
    "                if item not in self.genres_with_IDs_:\n",
    "                    self.genres_with_IDs_.append(item)\n",
    "\n",
    "        if genres_list != []: \n",
    "            for genre in genres_list:\n",
    "                if genre not in self.initial_genres_:\n",
    "                    self.initial_genres_.append(genre)\n",
    "                    print (\"extra\")\n",
    "                    self.find_genres(genre)\n",
    "                  \n",
    "        return self \n",
    "                    \n",
    "        \n",
    "\n",
    "    def initialize(self):\n",
    "        self.initial_genres_ = None\n",
    "        self.genreIDs_ = None\n",
    "        self.names_ = None \n",
    "        self.genres_with_IDs_ = None\n",
    "        \n",
    "        url = \"https://itunes.apple.com/search?term=podcasts&limit=200&country=PH&lan=en_us&entity=podcast\" \n",
    "        \n",
    "        \n",
    "        columns= ['Name', 'Artwork', 'Episode Count', 'GenreIDs', 'iTunes URL', 'FeedURL']\n",
    "        self.df_podcast_ = pd.DataFrame([[0, 0, 0, 0, 0, 0]], columns = columns)\n",
    "\n",
    "        try: \n",
    "            response = requests.get(url) \n",
    "            my_data = response.json()\n",
    "\n",
    "            if my_data[\"resultCount\"] != 0:\n",
    "                self.pull_genres(my_data)\n",
    "\n",
    "                self.initial_genres_ = self.genres_\n",
    "                self.initial_genreIDs_ = self.genreIDs_\n",
    "                self.genres_with_IDs_ = self.IDs_desc_\n",
    "                self.initial_names_ = self.names_\n",
    "                \n",
    "\n",
    "            else: \n",
    "                pass \n",
    "            \n",
    "        except ValueError:\n",
    "            print (\"Decoding JSON has failed\")\n",
    "        \n",
    "\n",
    "                    \n",
    "    def build_data(self):\n",
    "        \n",
    "        terms = self.terms\n",
    "        self.initialize()\n",
    "        \n",
    "        if self.initial_genres_ is not None:\n",
    "            for initial_genre in self.initial_genres_: \n",
    "                self.find_genres(initial_genre)\n",
    "        \n",
    "        print (terms)\n",
    "        if terms is not None:\n",
    "            for term in terms:\n",
    "                self.build_random_data(term)\n",
    "        \n",
    "\n",
    "        return self \n",
    "        "
   ]
  },
  {
   "cell_type": "code",
   "execution_count": 13,
   "metadata": {},
   "outputs": [],
   "source": [
    "more_genres = [\"random\", \"editorial\", \"review\", \"hobbies\", \"fiction\", \"mystery\", \"adventure\", \"romance\", \"humor\"]"
   ]
  },
  {
   "cell_type": "code",
   "execution_count": 14,
   "metadata": {},
   "outputs": [],
   "source": [
    "data_builder = build_dataset(more_genres)"
   ]
  },
  {
   "cell_type": "code",
   "execution_count": 15,
   "metadata": {},
   "outputs": [
    {
     "name": "stderr",
     "output_type": "stream",
     "text": [
      "100% |########################################################################|\n",
      "100% |########################################################################|\n"
     ]
    },
    {
     "name": "stdout",
     "output_type": "stream",
     "text": [
      "extra\n",
      "extra\n"
     ]
    },
    {
     "name": "stderr",
     "output_type": "stream",
     "text": [
      "100% |########################################################################|\n"
     ]
    },
    {
     "name": "stdout",
     "output_type": "stream",
     "text": [
      "extra\n",
      "extra\n"
     ]
    },
    {
     "name": "stderr",
     "output_type": "stream",
     "text": [
      "100% |########################################################################|\n"
     ]
    },
    {
     "name": "stdout",
     "output_type": "stream",
     "text": [
      "extra\n"
     ]
    },
    {
     "name": "stderr",
     "output_type": "stream",
     "text": [
      "100% |########################################################################|\n"
     ]
    },
    {
     "name": "stdout",
     "output_type": "stream",
     "text": [
      "extra\n"
     ]
    },
    {
     "name": "stderr",
     "output_type": "stream",
     "text": [
      "100% |########################################################################|\n"
     ]
    },
    {
     "name": "stdout",
     "output_type": "stream",
     "text": [
      "extra\n"
     ]
    },
    {
     "name": "stderr",
     "output_type": "stream",
     "text": [
      "100% |########################################################################|\n"
     ]
    },
    {
     "name": "stdout",
     "output_type": "stream",
     "text": [
      "extra\n"
     ]
    },
    {
     "name": "stderr",
     "output_type": "stream",
     "text": [
      "100% |########################################################################|\n"
     ]
    },
    {
     "name": "stdout",
     "output_type": "stream",
     "text": [
      "extra\n",
      "extra\n",
      "extra\n",
      "extra\n"
     ]
    },
    {
     "name": "stderr",
     "output_type": "stream",
     "text": [
      "100% |########################################################################|\n"
     ]
    },
    {
     "name": "stdout",
     "output_type": "stream",
     "text": [
      "extra\n"
     ]
    },
    {
     "name": "stderr",
     "output_type": "stream",
     "text": [
      "100% |########################################################################|\n"
     ]
    },
    {
     "name": "stdout",
     "output_type": "stream",
     "text": [
      "extra\n",
      "extra\n"
     ]
    },
    {
     "name": "stderr",
     "output_type": "stream",
     "text": [
      "100% |########################################################################|\n",
      "100% |########################################################################|\n"
     ]
    },
    {
     "name": "stdout",
     "output_type": "stream",
     "text": [
      "extra\n",
      "extra\n"
     ]
    },
    {
     "name": "stderr",
     "output_type": "stream",
     "text": [
      "100% |########################################################################|\n",
      "100% |########################################################################|\n"
     ]
    },
    {
     "name": "stdout",
     "output_type": "stream",
     "text": [
      "extra\n",
      "extra\n",
      "extra\n",
      "extra\n"
     ]
    },
    {
     "name": "stderr",
     "output_type": "stream",
     "text": [
      "100% |########################################################################|\n"
     ]
    },
    {
     "name": "stdout",
     "output_type": "stream",
     "text": [
      "extra\n"
     ]
    },
    {
     "name": "stderr",
     "output_type": "stream",
     "text": [
      "  0% |                                                                        |\r"
     ]
    },
    {
     "name": "stdout",
     "output_type": "stream",
     "text": [
      "extra\n"
     ]
    },
    {
     "ename": "UnboundLocalError",
     "evalue": "local variable 'feedurl' referenced before assignment",
     "output_type": "error",
     "traceback": [
      "\u001b[1;31m---------------------------------------------------------------------------\u001b[0m",
      "\u001b[1;31mUnboundLocalError\u001b[0m                         Traceback (most recent call last)",
      "\u001b[1;32m<ipython-input-15-e7958c24ad14>\u001b[0m in \u001b[0;36m<module>\u001b[1;34m\u001b[0m\n\u001b[1;32m----> 1\u001b[1;33m \u001b[0mdata_builder\u001b[0m\u001b[1;33m.\u001b[0m\u001b[0mbuild_data\u001b[0m\u001b[1;33m(\u001b[0m\u001b[1;33m)\u001b[0m\u001b[1;33m\u001b[0m\u001b[1;33m\u001b[0m\u001b[0m\n\u001b[0m",
      "\u001b[1;32m<ipython-input-12-7d42e7b551ef>\u001b[0m in \u001b[0;36mbuild_data\u001b[1;34m(self)\u001b[0m\n\u001b[0;32m    212\u001b[0m         \u001b[1;32mif\u001b[0m \u001b[0mself\u001b[0m\u001b[1;33m.\u001b[0m\u001b[0minitial_genres_\u001b[0m \u001b[1;32mis\u001b[0m \u001b[1;32mnot\u001b[0m \u001b[1;32mNone\u001b[0m\u001b[1;33m:\u001b[0m\u001b[1;33m\u001b[0m\u001b[1;33m\u001b[0m\u001b[0m\n\u001b[0;32m    213\u001b[0m             \u001b[1;32mfor\u001b[0m \u001b[0minitial_genre\u001b[0m \u001b[1;32min\u001b[0m \u001b[0mself\u001b[0m\u001b[1;33m.\u001b[0m\u001b[0minitial_genres_\u001b[0m\u001b[1;33m:\u001b[0m\u001b[1;33m\u001b[0m\u001b[1;33m\u001b[0m\u001b[0m\n\u001b[1;32m--> 214\u001b[1;33m                 \u001b[0mself\u001b[0m\u001b[1;33m.\u001b[0m\u001b[0mfind_genres\u001b[0m\u001b[1;33m(\u001b[0m\u001b[0minitial_genre\u001b[0m\u001b[1;33m)\u001b[0m\u001b[1;33m\u001b[0m\u001b[1;33m\u001b[0m\u001b[0m\n\u001b[0m\u001b[0;32m    215\u001b[0m \u001b[1;33m\u001b[0m\u001b[0m\n\u001b[0;32m    216\u001b[0m         \u001b[0mprint\u001b[0m \u001b[1;33m(\u001b[0m\u001b[0mterms\u001b[0m\u001b[1;33m)\u001b[0m\u001b[1;33m\u001b[0m\u001b[1;33m\u001b[0m\u001b[0m\n",
      "\u001b[1;32m<ipython-input-12-7d42e7b551ef>\u001b[0m in \u001b[0;36mfind_genres\u001b[1;34m(self, gnr)\u001b[0m\n\u001b[0;32m    166\u001b[0m                     \u001b[0mself\u001b[0m\u001b[1;33m.\u001b[0m\u001b[0minitial_genres_\u001b[0m\u001b[1;33m.\u001b[0m\u001b[0mappend\u001b[0m\u001b[1;33m(\u001b[0m\u001b[0mgenre\u001b[0m\u001b[1;33m)\u001b[0m\u001b[1;33m\u001b[0m\u001b[1;33m\u001b[0m\u001b[0m\n\u001b[0;32m    167\u001b[0m                     \u001b[0mprint\u001b[0m \u001b[1;33m(\u001b[0m\u001b[1;34m\"extra\"\u001b[0m\u001b[1;33m)\u001b[0m\u001b[1;33m\u001b[0m\u001b[1;33m\u001b[0m\u001b[0m\n\u001b[1;32m--> 168\u001b[1;33m                     \u001b[0mself\u001b[0m\u001b[1;33m.\u001b[0m\u001b[0mfind_genres\u001b[0m\u001b[1;33m(\u001b[0m\u001b[0mgenre\u001b[0m\u001b[1;33m)\u001b[0m\u001b[1;33m\u001b[0m\u001b[1;33m\u001b[0m\u001b[0m\n\u001b[0m\u001b[0;32m    169\u001b[0m \u001b[1;33m\u001b[0m\u001b[0m\n\u001b[0;32m    170\u001b[0m         \u001b[1;32mreturn\u001b[0m \u001b[0mself\u001b[0m\u001b[1;33m\u001b[0m\u001b[1;33m\u001b[0m\u001b[0m\n",
      "\u001b[1;32m<ipython-input-12-7d42e7b551ef>\u001b[0m in \u001b[0;36mfind_genres\u001b[1;34m(self, gnr)\u001b[0m\n\u001b[0;32m    166\u001b[0m                     \u001b[0mself\u001b[0m\u001b[1;33m.\u001b[0m\u001b[0minitial_genres_\u001b[0m\u001b[1;33m.\u001b[0m\u001b[0mappend\u001b[0m\u001b[1;33m(\u001b[0m\u001b[0mgenre\u001b[0m\u001b[1;33m)\u001b[0m\u001b[1;33m\u001b[0m\u001b[1;33m\u001b[0m\u001b[0m\n\u001b[0;32m    167\u001b[0m                     \u001b[0mprint\u001b[0m \u001b[1;33m(\u001b[0m\u001b[1;34m\"extra\"\u001b[0m\u001b[1;33m)\u001b[0m\u001b[1;33m\u001b[0m\u001b[1;33m\u001b[0m\u001b[0m\n\u001b[1;32m--> 168\u001b[1;33m                     \u001b[0mself\u001b[0m\u001b[1;33m.\u001b[0m\u001b[0mfind_genres\u001b[0m\u001b[1;33m(\u001b[0m\u001b[0mgenre\u001b[0m\u001b[1;33m)\u001b[0m\u001b[1;33m\u001b[0m\u001b[1;33m\u001b[0m\u001b[0m\n\u001b[0m\u001b[0;32m    169\u001b[0m \u001b[1;33m\u001b[0m\u001b[0m\n\u001b[0;32m    170\u001b[0m         \u001b[1;32mreturn\u001b[0m \u001b[0mself\u001b[0m\u001b[1;33m\u001b[0m\u001b[1;33m\u001b[0m\u001b[0m\n",
      "\u001b[1;32m<ipython-input-12-7d42e7b551ef>\u001b[0m in \u001b[0;36mfind_genres\u001b[1;34m(self, gnr)\u001b[0m\n\u001b[0;32m    145\u001b[0m     \u001b[1;32mdef\u001b[0m \u001b[0mfind_genres\u001b[0m\u001b[1;33m(\u001b[0m\u001b[0mself\u001b[0m\u001b[1;33m,\u001b[0m \u001b[0mgnr\u001b[0m\u001b[1;33m)\u001b[0m\u001b[1;33m:\u001b[0m\u001b[1;33m\u001b[0m\u001b[1;33m\u001b[0m\u001b[0m\n\u001b[0;32m    146\u001b[0m \u001b[1;33m\u001b[0m\u001b[0m\n\u001b[1;32m--> 147\u001b[1;33m         \u001b[0mself\u001b[0m\u001b[1;33m.\u001b[0m\u001b[0mbuild_genres_data\u001b[0m\u001b[1;33m(\u001b[0m\u001b[0mgnr\u001b[0m\u001b[1;33m)\u001b[0m\u001b[1;33m\u001b[0m\u001b[1;33m\u001b[0m\u001b[0m\n\u001b[0m\u001b[0;32m    148\u001b[0m \u001b[1;33m\u001b[0m\u001b[0m\n\u001b[0;32m    149\u001b[0m         \u001b[0mgenres_list\u001b[0m \u001b[1;33m=\u001b[0m \u001b[0mself\u001b[0m\u001b[1;33m.\u001b[0m\u001b[0mgenres_\u001b[0m\u001b[1;33m\u001b[0m\u001b[1;33m\u001b[0m\u001b[0m\n",
      "\u001b[1;32m<ipython-input-12-7d42e7b551ef>\u001b[0m in \u001b[0;36mbuild_genres_data\u001b[1;34m(self, genre)\u001b[0m\n\u001b[0;32m    132\u001b[0m \u001b[1;33m\u001b[0m\u001b[0m\n\u001b[0;32m    133\u001b[0m             \u001b[1;32mif\u001b[0m \u001b[0mdata\u001b[0m\u001b[1;33m[\u001b[0m\u001b[1;34m\"resultCount\"\u001b[0m\u001b[1;33m]\u001b[0m \u001b[1;33m!=\u001b[0m \u001b[1;36m0\u001b[0m\u001b[1;33m:\u001b[0m\u001b[1;33m\u001b[0m\u001b[1;33m\u001b[0m\u001b[0m\n\u001b[1;32m--> 134\u001b[1;33m                 \u001b[0mself\u001b[0m\u001b[1;33m.\u001b[0m\u001b[0mpull_genres\u001b[0m\u001b[1;33m(\u001b[0m\u001b[0mdata\u001b[0m\u001b[1;33m)\u001b[0m\u001b[1;33m\u001b[0m\u001b[1;33m\u001b[0m\u001b[0m\n\u001b[0m\u001b[0;32m    135\u001b[0m                 \u001b[1;32mreturn\u001b[0m \u001b[0mself\u001b[0m\u001b[1;33m\u001b[0m\u001b[1;33m\u001b[0m\u001b[0m\n\u001b[0;32m    136\u001b[0m             \u001b[1;32melse\u001b[0m\u001b[1;33m:\u001b[0m\u001b[1;33m\u001b[0m\u001b[1;33m\u001b[0m\u001b[0m\n",
      "\u001b[1;32m<ipython-input-12-7d42e7b551ef>\u001b[0m in \u001b[0;36mpull_genres\u001b[1;34m(self, my_data)\u001b[0m\n\u001b[0;32m     73\u001b[0m \u001b[1;33m\u001b[0m\u001b[0m\n\u001b[0;32m     74\u001b[0m \u001b[1;33m\u001b[0m\u001b[0m\n\u001b[1;32m---> 75\u001b[1;33m                                 \u001b[0mmy_row\u001b[0m \u001b[1;33m=\u001b[0m \u001b[1;33m[\u001b[0m\u001b[0mcollection_name\u001b[0m\u001b[1;33m,\u001b[0m \u001b[0martwork\u001b[0m\u001b[1;33m,\u001b[0m \u001b[0mepisode_count\u001b[0m\u001b[1;33m,\u001b[0m \u001b[0mgenreID\u001b[0m\u001b[1;33m,\u001b[0m \u001b[0mitunes_url\u001b[0m\u001b[1;33m,\u001b[0m \u001b[0mfeedurl\u001b[0m\u001b[1;33m]\u001b[0m\u001b[1;33m\u001b[0m\u001b[1;33m\u001b[0m\u001b[0m\n\u001b[0m\u001b[0;32m     76\u001b[0m                                 \u001b[0mmy_row_pd\u001b[0m \u001b[1;33m=\u001b[0m \u001b[0mpd\u001b[0m\u001b[1;33m.\u001b[0m\u001b[0mDataFrame\u001b[0m\u001b[1;33m(\u001b[0m\u001b[1;33m[\u001b[0m\u001b[0mmy_row\u001b[0m\u001b[1;33m]\u001b[0m\u001b[1;33m,\u001b[0m \u001b[0mcolumns\u001b[0m \u001b[1;33m=\u001b[0m \u001b[0mcolumns\u001b[0m\u001b[1;33m)\u001b[0m\u001b[1;33m\u001b[0m\u001b[1;33m\u001b[0m\u001b[0m\n\u001b[0;32m     77\u001b[0m                                 \u001b[0mself\u001b[0m\u001b[1;33m.\u001b[0m\u001b[0mdf_podcast_\u001b[0m \u001b[1;33m=\u001b[0m \u001b[0mself\u001b[0m\u001b[1;33m.\u001b[0m\u001b[0mdf_podcast_\u001b[0m\u001b[1;33m.\u001b[0m\u001b[0mappend\u001b[0m\u001b[1;33m(\u001b[0m\u001b[0mmy_row_pd\u001b[0m\u001b[1;33m,\u001b[0m \u001b[0mignore_index\u001b[0m\u001b[1;33m=\u001b[0m\u001b[1;32mTrue\u001b[0m\u001b[1;33m)\u001b[0m\u001b[1;33m\u001b[0m\u001b[1;33m\u001b[0m\u001b[0m\n",
      "\u001b[1;31mUnboundLocalError\u001b[0m: local variable 'feedurl' referenced before assignment"
     ]
    }
   ],
   "source": [
    "data_builder.build_data()"
   ]
  },
  {
   "cell_type": "code",
   "execution_count": 16,
   "metadata": {},
   "outputs": [],
   "source": [
    "genre_IDs = data_builder.genres_with_IDs_\n",
    "\n",
    "with open('genre_IDs.txt','a') as t:\n",
    "    t.write('\\n' + str(genre_IDs))      \n",
    "    t.close()"
   ]
  },
  {
   "cell_type": "code",
   "execution_count": 17,
   "metadata": {},
   "outputs": [],
   "source": [
    "podcast_dataframe = data_builder.df_podcast_.drop_duplicates(['Name']).reset_index(drop=True)"
   ]
  },
  {
   "cell_type": "code",
   "execution_count": 18,
   "metadata": {},
   "outputs": [],
   "source": [
    "podcast_dataframe.drop(podcast_dataframe.index[0], inplace=True)"
   ]
  },
  {
   "cell_type": "code",
   "execution_count": 19,
   "metadata": {},
   "outputs": [],
   "source": [
    "podcast_dataframe = podcast_dataframe.reset_index(drop=True)"
   ]
  },
  {
   "cell_type": "code",
   "execution_count": 20,
   "metadata": {},
   "outputs": [],
   "source": [
    "podcast_dataframe.to_csv(\"df_01.csv\", index=False)"
   ]
  },
  {
   "cell_type": "code",
   "execution_count": 21,
   "metadata": {},
   "outputs": [
    {
     "data": {
      "text/html": [
       "<div>\n",
       "<style scoped>\n",
       "    .dataframe tbody tr th:only-of-type {\n",
       "        vertical-align: middle;\n",
       "    }\n",
       "\n",
       "    .dataframe tbody tr th {\n",
       "        vertical-align: top;\n",
       "    }\n",
       "\n",
       "    .dataframe thead th {\n",
       "        text-align: right;\n",
       "    }\n",
       "</style>\n",
       "<table border=\"1\" class=\"dataframe\">\n",
       "  <thead>\n",
       "    <tr style=\"text-align: right;\">\n",
       "      <th></th>\n",
       "      <th>Name</th>\n",
       "      <th>Artwork</th>\n",
       "      <th>Episode Count</th>\n",
       "      <th>GenreIDs</th>\n",
       "      <th>iTunes URL</th>\n",
       "      <th>FeedURL</th>\n",
       "    </tr>\n",
       "  </thead>\n",
       "  <tbody>\n",
       "    <tr>\n",
       "      <td>0</td>\n",
       "      <td>Barangay Love Stories</td>\n",
       "      <td>https://is1-ssl.mzstatic.com/image/thumb/Podca...</td>\n",
       "      <td>173</td>\n",
       "      <td>[1324, 26]</td>\n",
       "      <td>https://podcasts.apple.com/ph/podcast/barangay...</td>\n",
       "      <td>https://www.gmanetwork.com/radio/podcast/10000</td>\n",
       "    </tr>\n",
       "    <tr>\n",
       "      <td>1</td>\n",
       "      <td>TED Talks Daily</td>\n",
       "      <td>https://is5-ssl.mzstatic.com/image/thumb/Podca...</td>\n",
       "      <td>275</td>\n",
       "      <td>[1402, 26, 1301, 1304]</td>\n",
       "      <td>https://podcasts.apple.com/ph/podcast/ted-talk...</td>\n",
       "      <td>http://feeds.feedburner.com/TEDTalks_audio</td>\n",
       "    </tr>\n",
       "    <tr>\n",
       "      <td>2</td>\n",
       "      <td>Stuff You Missed in History Class</td>\n",
       "      <td>https://is4-ssl.mzstatic.com/image/thumb/Podca...</td>\n",
       "      <td>300</td>\n",
       "      <td>[1487, 26, 1324]</td>\n",
       "      <td>https://podcasts.apple.com/ph/podcast/stuff-yo...</td>\n",
       "      <td>https://feeds.megaphone.fm/stuffyoumissedinhis...</td>\n",
       "    </tr>\n",
       "    <tr>\n",
       "      <td>3</td>\n",
       "      <td>History Extra podcast</td>\n",
       "      <td>https://is4-ssl.mzstatic.com/image/thumb/Podca...</td>\n",
       "      <td>300</td>\n",
       "      <td>[1487, 26, 1324]</td>\n",
       "      <td>https://podcasts.apple.com/ph/podcast/history-...</td>\n",
       "      <td>http://rss.acast.com/historyextra</td>\n",
       "    </tr>\n",
       "    <tr>\n",
       "      <td>4</td>\n",
       "      <td>Monster Radio RX93.1's Official Podcast Channel</td>\n",
       "      <td>https://is4-ssl.mzstatic.com/image/thumb/Featu...</td>\n",
       "      <td>298</td>\n",
       "      <td>[1310, 26]</td>\n",
       "      <td>https://podcasts.apple.com/ph/podcast/monster-...</td>\n",
       "      <td>http://www.rx931.com/rxpodcasts.xml</td>\n",
       "    </tr>\n",
       "    <tr>\n",
       "      <td>...</td>\n",
       "      <td>...</td>\n",
       "      <td>...</td>\n",
       "      <td>...</td>\n",
       "      <td>...</td>\n",
       "      <td>...</td>\n",
       "      <td>...</td>\n",
       "    </tr>\n",
       "    <tr>\n",
       "      <td>1180</td>\n",
       "      <td>Holistic Pet Radio</td>\n",
       "      <td>https://is4-ssl.mzstatic.com/image/thumb/Podca...</td>\n",
       "      <td>64</td>\n",
       "      <td>[1304, 26, 1512, 1513]</td>\n",
       "      <td>https://podcasts.apple.com/ph/podcast/holistic...</td>\n",
       "      <td>http://www.spreaker.com/show/1906839/episodes/...</td>\n",
       "    </tr>\n",
       "    <tr>\n",
       "      <td>1181</td>\n",
       "      <td>Raising Your Paws- Your resource for dog &amp; cat...</td>\n",
       "      <td>https://is3-ssl.mzstatic.com/image/thumb/Podca...</td>\n",
       "      <td>50</td>\n",
       "      <td>[1305, 26, 1304]</td>\n",
       "      <td>https://podcasts.apple.com/ph/podcast/raising-...</td>\n",
       "      <td>https://feeds.blubrry.com/feeds/raisingyourpaw...</td>\n",
       "    </tr>\n",
       "    <tr>\n",
       "      <td>1182</td>\n",
       "      <td>The Pet Photographers Club</td>\n",
       "      <td>https://is3-ssl.mzstatic.com/image/thumb/Podca...</td>\n",
       "      <td>46</td>\n",
       "      <td>[1321, 26, 1301, 1406]</td>\n",
       "      <td>https://podcasts.apple.com/ph/podcast/the-pet-...</td>\n",
       "      <td>https://thepetphotographersclub.squarespace.co...</td>\n",
       "    </tr>\n",
       "    <tr>\n",
       "      <td>1183</td>\n",
       "      <td>Nine Lives with Dr. Kat - Cat podcasts for cat...</td>\n",
       "      <td>https://is5-ssl.mzstatic.com/image/thumb/Podca...</td>\n",
       "      <td>55</td>\n",
       "      <td>[1305, 26, 1304]</td>\n",
       "      <td>https://podcasts.apple.com/ph/podcast/nine-liv...</td>\n",
       "      <td>http://feeds.feedburner.com/NineLivesWithDrKat...</td>\n",
       "    </tr>\n",
       "    <tr>\n",
       "      <td>1184</td>\n",
       "      <td>WebTalkRadio.net » Pet Talk</td>\n",
       "      <td>https://is4-ssl.mzstatic.com/image/thumb/Featu...</td>\n",
       "      <td>24</td>\n",
       "      <td>[1302, 26, 1324]</td>\n",
       "      <td>https://podcasts.apple.com/ph/podcast/webtalkr...</td>\n",
       "      <td>http://webtalkradio.net/internet-talk-radio/ca...</td>\n",
       "    </tr>\n",
       "  </tbody>\n",
       "</table>\n",
       "<p>1185 rows × 6 columns</p>\n",
       "</div>"
      ],
      "text/plain": [
       "                                                   Name  \\\n",
       "0                                 Barangay Love Stories   \n",
       "1                                       TED Talks Daily   \n",
       "2                     Stuff You Missed in History Class   \n",
       "3                                 History Extra podcast   \n",
       "4       Monster Radio RX93.1's Official Podcast Channel   \n",
       "...                                                 ...   \n",
       "1180                                 Holistic Pet Radio   \n",
       "1181  Raising Your Paws- Your resource for dog & cat...   \n",
       "1182                         The Pet Photographers Club   \n",
       "1183  Nine Lives with Dr. Kat - Cat podcasts for cat...   \n",
       "1184                        WebTalkRadio.net » Pet Talk   \n",
       "\n",
       "                                                Artwork  Episode Count  \\\n",
       "0     https://is1-ssl.mzstatic.com/image/thumb/Podca...            173   \n",
       "1     https://is5-ssl.mzstatic.com/image/thumb/Podca...            275   \n",
       "2     https://is4-ssl.mzstatic.com/image/thumb/Podca...            300   \n",
       "3     https://is4-ssl.mzstatic.com/image/thumb/Podca...            300   \n",
       "4     https://is4-ssl.mzstatic.com/image/thumb/Featu...            298   \n",
       "...                                                 ...            ...   \n",
       "1180  https://is4-ssl.mzstatic.com/image/thumb/Podca...             64   \n",
       "1181  https://is3-ssl.mzstatic.com/image/thumb/Podca...             50   \n",
       "1182  https://is3-ssl.mzstatic.com/image/thumb/Podca...             46   \n",
       "1183  https://is5-ssl.mzstatic.com/image/thumb/Podca...             55   \n",
       "1184  https://is4-ssl.mzstatic.com/image/thumb/Featu...             24   \n",
       "\n",
       "                    GenreIDs  \\\n",
       "0                 [1324, 26]   \n",
       "1     [1402, 26, 1301, 1304]   \n",
       "2           [1487, 26, 1324]   \n",
       "3           [1487, 26, 1324]   \n",
       "4                 [1310, 26]   \n",
       "...                      ...   \n",
       "1180  [1304, 26, 1512, 1513]   \n",
       "1181        [1305, 26, 1304]   \n",
       "1182  [1321, 26, 1301, 1406]   \n",
       "1183        [1305, 26, 1304]   \n",
       "1184        [1302, 26, 1324]   \n",
       "\n",
       "                                             iTunes URL  \\\n",
       "0     https://podcasts.apple.com/ph/podcast/barangay...   \n",
       "1     https://podcasts.apple.com/ph/podcast/ted-talk...   \n",
       "2     https://podcasts.apple.com/ph/podcast/stuff-yo...   \n",
       "3     https://podcasts.apple.com/ph/podcast/history-...   \n",
       "4     https://podcasts.apple.com/ph/podcast/monster-...   \n",
       "...                                                 ...   \n",
       "1180  https://podcasts.apple.com/ph/podcast/holistic...   \n",
       "1181  https://podcasts.apple.com/ph/podcast/raising-...   \n",
       "1182  https://podcasts.apple.com/ph/podcast/the-pet-...   \n",
       "1183  https://podcasts.apple.com/ph/podcast/nine-liv...   \n",
       "1184  https://podcasts.apple.com/ph/podcast/webtalkr...   \n",
       "\n",
       "                                                FeedURL  \n",
       "0        https://www.gmanetwork.com/radio/podcast/10000  \n",
       "1            http://feeds.feedburner.com/TEDTalks_audio  \n",
       "2     https://feeds.megaphone.fm/stuffyoumissedinhis...  \n",
       "3                     http://rss.acast.com/historyextra  \n",
       "4                   http://www.rx931.com/rxpodcasts.xml  \n",
       "...                                                 ...  \n",
       "1180  http://www.spreaker.com/show/1906839/episodes/...  \n",
       "1181  https://feeds.blubrry.com/feeds/raisingyourpaw...  \n",
       "1182  https://thepetphotographersclub.squarespace.co...  \n",
       "1183  http://feeds.feedburner.com/NineLivesWithDrKat...  \n",
       "1184  http://webtalkradio.net/internet-talk-radio/ca...  \n",
       "\n",
       "[1185 rows x 6 columns]"
      ]
     },
     "execution_count": 21,
     "metadata": {},
     "output_type": "execute_result"
    }
   ],
   "source": [
    "podcast_dataframe"
   ]
  },
  {
   "cell_type": "code",
   "execution_count": null,
   "metadata": {},
   "outputs": [],
   "source": []
  }
 ],
 "metadata": {
  "kernelspec": {
   "display_name": "Python 3",
   "language": "python",
   "name": "python3"
  },
  "language_info": {
   "codemirror_mode": {
    "name": "ipython",
    "version": 3
   },
   "file_extension": ".py",
   "mimetype": "text/x-python",
   "name": "python",
   "nbconvert_exporter": "python",
   "pygments_lexer": "ipython3",
   "version": "3.7.4"
  }
 },
 "nbformat": 4,
 "nbformat_minor": 2
}
